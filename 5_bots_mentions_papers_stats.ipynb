{
 "cells": [
  {
   "cell_type": "markdown",
   "id": "24322253-1b9a-4de0-a235-b177a031d299",
   "metadata": {
    "tags": []
   },
   "source": [
    "# Bots in Science 🧪"
   ]
  },
  {
   "cell_type": "markdown",
   "id": "7feed8e8-7a31-4482-b1a8-ccd8991ad415",
   "metadata": {},
   "source": [
    "In this notebook, the impact of bots on tweets is calculated at the paper level, differentiating in:\n",
    "+ overall 🌍\n",
    "+ by ESI field 📚\n",
    "+ by Web of Science category 📖"
   ]
  },
  {
   "cell_type": "markdown",
   "id": "98f3c498-10f3-414b-ba78-cfcc01600f11",
   "metadata": {
    "tags": []
   },
   "source": [
    "## Libraries"
   ]
  },
  {
   "cell_type": "code",
   "execution_count": 8,
   "id": "07fd079a-7a15-4d34-90d1-0753254b84fc",
   "metadata": {},
   "outputs": [],
   "source": [
    "import pandas as pd\n",
    "import numpy as np\n",
    "from functions import bot_mentions, gini\n",
    "import scipy.stats"
   ]
  },
  {
   "cell_type": "markdown",
   "id": "f119cf35-1bf9-4e2c-914e-2b5fd98ff885",
   "metadata": {},
   "source": [
    "## 1. Overall"
   ]
  },
  {
   "cell_type": "markdown",
   "id": "07b2c0cc-5fc1-45c2-9053-486869704b78",
   "metadata": {},
   "source": [
    "In this case, by focusing attention on the tweets and wanting to analyze the impact, the tweets are selected. After that, bot tweets are calculated at the paper level, and metrics are calculated to shed light on the impact of bots on this altmetric."
   ]
  },
  {
   "cell_type": "code",
   "execution_count": 2,
   "id": "e77dc739-899c-44f6-bad8-82d942912402",
   "metadata": {},
   "outputs": [
    {
     "data": {
      "text/plain": [
       "(17511547, 6)"
      ]
     },
     "execution_count": 2,
     "metadata": {},
     "output_type": "execute_result"
    }
   ],
   "source": [
    "データ_tw_men = pd.read_csv('data/final_mentions_full_bots.tsv', sep='\\t', encoding='UTF-8',\n",
    "                         dtype={'Outlet or Author':str, 'External Mention ID':str})\n",
    "データ_tw_men = データ_tw_men[データ_tw_men.Original==1].copy()\n",
    "データ_tw_men.shape"
   ]
  },
  {
   "cell_type": "code",
   "execution_count": 3,
   "id": "da55212d-b958-4138-80a4-b74f0cdf501d",
   "metadata": {},
   "outputs": [],
   "source": [
    "データ_tw_men_paper = bot_mentions(データ_tw_men, agg_by='DOI')"
   ]
  },
  {
   "cell_type": "markdown",
   "id": "b2e51760-66fc-4824-85fd-24142a5a152a",
   "metadata": {},
   "source": [
    "### 1.1. Impact metrics"
   ]
  },
  {
   "cell_type": "code",
   "execution_count": 4,
   "id": "67639d7a-66d9-463d-8aa6-6ab899536c68",
   "metadata": {},
   "outputs": [
    {
     "data": {
      "text/plain": [
       "20.254773443890613"
      ]
     },
     "execution_count": 4,
     "metadata": {},
     "output_type": "execute_result"
    }
   ],
   "source": [
    "データ_tw_men_paper['bot_tweets_p'].mean()"
   ]
  },
  {
   "cell_type": "code",
   "execution_count": 9,
   "id": "50663866-65be-47e9-a748-91db05730599",
   "metadata": {},
   "outputs": [
    {
     "data": {
      "text/plain": [
       "0.7706832026443643"
      ]
     },
     "execution_count": 9,
     "metadata": {},
     "output_type": "execute_result"
    }
   ],
   "source": [
    "gini(np.array(データ_tw_men_paper['bot_tweets_p']))"
   ]
  },
  {
   "cell_type": "code",
   "execution_count": 10,
   "id": "b4dad9b4-50f4-441b-a19c-1779d6ede728",
   "metadata": {},
   "outputs": [
    {
     "data": {
      "text/plain": [
       "12.687799811811258"
      ]
     },
     "execution_count": 10,
     "metadata": {},
     "output_type": "execute_result"
    }
   ],
   "source": [
    "100*データ_tw_men_paper[データ_tw_men_paper['bot_tweets_p']==100].shape[0]/データ_tw_men_paper.shape[0]"
   ]
  },
  {
   "cell_type": "code",
   "execution_count": 11,
   "id": "64c2ecc8-118b-4759-a659-25e0c5823e12",
   "metadata": {},
   "outputs": [
    {
     "data": {
      "text/plain": [
       "21.335657260448283"
      ]
     },
     "execution_count": 11,
     "metadata": {},
     "output_type": "execute_result"
    }
   ],
   "source": [
    "100*データ_tw_men_paper[データ_tw_men_paper['bot_tweets_p']>=50].shape[0]/データ_tw_men_paper.shape[0]"
   ]
  },
  {
   "cell_type": "code",
   "execution_count": 12,
   "id": "fded5ca4-3a12-459a-b8de-96c9578e9217",
   "metadata": {},
   "outputs": [
    {
     "data": {
      "text/plain": [
       "33.9914038300808"
      ]
     },
     "execution_count": 12,
     "metadata": {},
     "output_type": "execute_result"
    }
   ],
   "source": [
    "100*データ_tw_men_paper[データ_tw_men_paper['bot_tweets_p']>0].shape[0]/データ_tw_men_paper.shape[0]"
   ]
  },
  {
   "cell_type": "code",
   "execution_count": 13,
   "id": "84ee9c08-ba17-4307-8e8e-2ee7623e2736",
   "metadata": {},
   "outputs": [],
   "source": [
    "データ_tw_men_paper['tweets_no_bot'] = データ_tw_men_paper['tweets']-データ_tw_men_paper['tweets_bot']\n",
    "データ_tw_men_paper['tweets_per'] = データ_tw_men_paper['tweets'].rank(pct=True)\n",
    "データ_tw_men_paper['tweets_no_bot_per'] = データ_tw_men_paper['tweets_no_bot'].rank(pct=True)\n",
    "データ_tw_men_paper['per_diff'] = abs(データ_tw_men_paper['tweets_per']-データ_tw_men_paper['tweets_no_bot_per'])"
   ]
  },
  {
   "cell_type": "code",
   "execution_count": 14,
   "id": "bc08c184-67a9-401d-8fc9-eac14bcde4c6",
   "metadata": {},
   "outputs": [
    {
     "data": {
      "text/plain": [
       "10.545640726942056"
      ]
     },
     "execution_count": 14,
     "metadata": {},
     "output_type": "execute_result"
    }
   ],
   "source": [
    "100*データ_tw_men_paper['per_diff'].mean()"
   ]
  },
  {
   "cell_type": "code",
   "execution_count": 15,
   "id": "b9958d7c-41ec-4165-a55e-91e52e82560c",
   "metadata": {},
   "outputs": [
    {
     "data": {
      "text/plain": [
       "0.8675767468675512"
      ]
     },
     "execution_count": 15,
     "metadata": {},
     "output_type": "execute_result"
    }
   ],
   "source": [
    "scipy.stats.spearmanr(データ_tw_men_paper['tweets'], データ_tw_men_paper['tweets_no_bot'])[0]"
   ]
  },
  {
   "cell_type": "markdown",
   "id": "78e74e26-b079-4697-9422-38a6ce698a40",
   "metadata": {},
   "source": [
    "## 2. ESI field"
   ]
  },
  {
   "cell_type": "markdown",
   "id": "9dbdbb22-4001-4d2c-a131-ff50a9309645",
   "metadata": {},
   "source": [
    "The same process is replicated but at the ESI field level."
   ]
  },
  {
   "cell_type": "code",
   "execution_count": 16,
   "id": "5646be13-3674-418a-adca-d35895bfbc5f",
   "metadata": {},
   "outputs": [
    {
     "data": {
      "text/plain": [
       "(5212927, 2)"
      ]
     },
     "execution_count": 16,
     "metadata": {},
     "output_type": "execute_result"
    }
   ],
   "source": [
    "データ_tw_men_esi = pd.read_csv('data/final_mentions_full_bots_esi.tsv', sep='\\t', encoding='UTF-8',\n",
    "                             dtype={'Outlet or Author':str, 'External Mention ID':str})\n",
    "データ_tw_men_esi = データ_tw_men_esi.loc[データ_tw_men_esi.Original==1, ['ESI', 'DOI']].drop_duplicates().copy()\n",
    "データ_tw_men_esi.shape"
   ]
  },
  {
   "cell_type": "code",
   "execution_count": 17,
   "id": "815bc3dd-a0b9-4c37-be4f-92b247fdb60a",
   "metadata": {},
   "outputs": [],
   "source": [
    "データ_tw_men_esi = データ_tw_men_esi.merge(データ_tw_men_paper, how='inner', on='DOI')"
   ]
  },
  {
   "cell_type": "markdown",
   "id": "62373394-1c8d-478d-bcbd-ddda671067a1",
   "metadata": {},
   "source": [
    "### 2.1. Impact metrics"
   ]
  },
  {
   "cell_type": "code",
   "execution_count": 18,
   "id": "00bd28da-33a7-4fea-b528-665c625d45a8",
   "metadata": {},
   "outputs": [],
   "source": [
    "データ_tw_men_esi['tweets_per'] = None\n",
    "データ_tw_men_esi['tweets_no_bot_per'] = None\n",
    "データ_tw_men_esi['per_diff'] = None"
   ]
  },
  {
   "cell_type": "code",
   "execution_count": 19,
   "id": "caf4bffe-7835-4a6d-8332-cc002d04f928",
   "metadata": {},
   "outputs": [],
   "source": [
    "for esi in list(set(データ_tw_men_esi['ESI'])):\n",
    "    データ_tw_men_esi.loc[データ_tw_men_esi.ESI==esi, 'tweets_per'] = 100*データ_tw_men_esi.loc[データ_tw_men_esi.ESI==esi, 'tweets'].rank(pct=True)\n",
    "    データ_tw_men_esi.loc[データ_tw_men_esi.ESI==esi,'tweets_no_bot_per'] = 100*データ_tw_men_esi.loc[データ_tw_men_esi.ESI==esi, 'tweets_no_bot'].rank(pct=True)\n",
    "データ_tw_men_esi['per_diff'] = abs(データ_tw_men_esi['tweets_per']-データ_tw_men_esi['tweets_no_bot_per'])"
   ]
  },
  {
   "cell_type": "code",
   "execution_count": 20,
   "id": "a554eb2f-da0f-4a76-8778-9c5f522524bd",
   "metadata": {},
   "outputs": [],
   "source": [
    "データ_tw_men_esi_paper = データ_tw_men_esi.groupby('ESI').agg({'bot_tweets_p':'mean', 'per_diff':'mean'}).reset_index()"
   ]
  },
  {
   "cell_type": "code",
   "execution_count": 21,
   "id": "ca1001a2-28f9-4609-859a-d70fe50c26f4",
   "metadata": {},
   "outputs": [],
   "source": [
    "データ_tw_men_esi_paper_aux = データ_tw_men_esi.groupby('ESI').agg({\n",
    "    'bot_tweets_p': [\n",
    "        lambda x: 100*(x > 0).sum()/len(x),\n",
    "        lambda x: 100*(x >= 50).sum()/len(x),\n",
    "        lambda x: 100*(x == 100).sum()/len(x)\n",
    "    ]\n",
    "}).reset_index()\n",
    "データ_tw_men_esi_paper_aux.columns = ['ESI', 'any', 'half', 'all']"
   ]
  },
  {
   "cell_type": "code",
   "execution_count": 22,
   "id": "950bd6c7-0e43-4ee3-8a97-7fe4c8bddee2",
   "metadata": {},
   "outputs": [],
   "source": [
    "データ_tw_men_esi_paper = データ_tw_men_esi_paper.merge(データ_tw_men_esi_paper_aux, how='inner', on='ESI')"
   ]
  },
  {
   "cell_type": "code",
   "execution_count": 23,
   "id": "bf5fc2ac-e0db-4cd6-9c3d-1a4b0ac8d14b",
   "metadata": {},
   "outputs": [],
   "source": [
    "データ_tw_men_esi_gini = データ_tw_men_esi.groupby('ESI').apply(\n",
    "    lambda x: gini(np.array(x['bot_tweets_p']))\n",
    ").reset_index().rename({0:'gini'}, axis=1)"
   ]
  },
  {
   "cell_type": "code",
   "execution_count": 24,
   "id": "91f55ebf-715b-4d50-9688-b3e6395356c0",
   "metadata": {},
   "outputs": [],
   "source": [
    "データ_tw_men_esi_paper = データ_tw_men_esi_paper.merge(データ_tw_men_esi_gini, how='inner', on='ESI')"
   ]
  },
  {
   "cell_type": "code",
   "execution_count": 25,
   "id": "cd8af646-a893-4541-ab8d-54e1882cd1e7",
   "metadata": {},
   "outputs": [],
   "source": [
    "データ_tw_men_esi_corr = データ_tw_men_esi.groupby('ESI').apply(\n",
    "    lambda x: scipy.stats.spearmanr(x['tweets'], x['tweets_no_bot'])[0]\n",
    ").reset_index().rename({0:'corr'}, axis=1)"
   ]
  },
  {
   "cell_type": "code",
   "execution_count": 26,
   "id": "25bff271-1e10-4809-a8db-08c16244a93b",
   "metadata": {},
   "outputs": [],
   "source": [
    "データ_tw_men_esi_paper = データ_tw_men_esi_paper.merge(データ_tw_men_esi_corr, how='inner', on='ESI')"
   ]
  },
  {
   "cell_type": "code",
   "execution_count": 27,
   "id": "d96d903f-2d60-442a-a7f3-592032481271",
   "metadata": {},
   "outputs": [
    {
     "data": {
      "text/html": [
       "<div>\n",
       "<style scoped>\n",
       "    .dataframe tbody tr th:only-of-type {\n",
       "        vertical-align: middle;\n",
       "    }\n",
       "\n",
       "    .dataframe tbody tr th {\n",
       "        vertical-align: top;\n",
       "    }\n",
       "\n",
       "    .dataframe thead th {\n",
       "        text-align: right;\n",
       "    }\n",
       "</style>\n",
       "<table border=\"1\" class=\"dataframe\">\n",
       "  <thead>\n",
       "    <tr style=\"text-align: right;\">\n",
       "      <th></th>\n",
       "      <th>ESI</th>\n",
       "      <th>bot_tweets_p</th>\n",
       "      <th>per_diff</th>\n",
       "      <th>any</th>\n",
       "      <th>half</th>\n",
       "      <th>all</th>\n",
       "      <th>gini</th>\n",
       "      <th>corr</th>\n",
       "    </tr>\n",
       "  </thead>\n",
       "  <tbody>\n",
       "    <tr>\n",
       "      <th>0</th>\n",
       "      <td>Agricultural Sciences</td>\n",
       "      <td>20.345658</td>\n",
       "      <td>11.914281</td>\n",
       "      <td>29.736095</td>\n",
       "      <td>21.636132</td>\n",
       "      <td>14.517683</td>\n",
       "      <td>0.781953</td>\n",
       "      <td>0.824404</td>\n",
       "    </tr>\n",
       "    <tr>\n",
       "      <th>1</th>\n",
       "      <td>Arts &amp; Humanities</td>\n",
       "      <td>4.243537</td>\n",
       "      <td>2.797029</td>\n",
       "      <td>8.017828</td>\n",
       "      <td>4.192296</td>\n",
       "      <td>2.621624</td>\n",
       "      <td>0.950239</td>\n",
       "      <td>0.970478</td>\n",
       "    </tr>\n",
       "    <tr>\n",
       "      <th>2</th>\n",
       "      <td>Biology &amp; Biochemistry</td>\n",
       "      <td>25.958696</td>\n",
       "      <td>11.092892</td>\n",
       "      <td>45.811471</td>\n",
       "      <td>26.836957</td>\n",
       "      <td>15.542072</td>\n",
       "      <td>0.698965</td>\n",
       "      <td>0.866728</td>\n",
       "    </tr>\n",
       "    <tr>\n",
       "      <th>3</th>\n",
       "      <td>Chemistry</td>\n",
       "      <td>17.449191</td>\n",
       "      <td>11.773101</td>\n",
       "      <td>25.205331</td>\n",
       "      <td>19.295065</td>\n",
       "      <td>12.017849</td>\n",
       "      <td>0.809873</td>\n",
       "      <td>0.819194</td>\n",
       "    </tr>\n",
       "    <tr>\n",
       "      <th>4</th>\n",
       "      <td>Clinical Medicine</td>\n",
       "      <td>17.857444</td>\n",
       "      <td>8.763823</td>\n",
       "      <td>31.292803</td>\n",
       "      <td>18.535176</td>\n",
       "      <td>11.086549</td>\n",
       "      <td>0.795720</td>\n",
       "      <td>0.903549</td>\n",
       "    </tr>\n",
       "    <tr>\n",
       "      <th>5</th>\n",
       "      <td>Computer Science</td>\n",
       "      <td>19.912060</td>\n",
       "      <td>13.004691</td>\n",
       "      <td>31.466988</td>\n",
       "      <td>21.397204</td>\n",
       "      <td>11.589382</td>\n",
       "      <td>0.774748</td>\n",
       "      <td>0.779765</td>\n",
       "    </tr>\n",
       "    <tr>\n",
       "      <th>6</th>\n",
       "      <td>Economics &amp; Business</td>\n",
       "      <td>6.649696</td>\n",
       "      <td>4.074000</td>\n",
       "      <td>12.325064</td>\n",
       "      <td>6.664181</td>\n",
       "      <td>4.133214</td>\n",
       "      <td>0.922921</td>\n",
       "      <td>0.958192</td>\n",
       "    </tr>\n",
       "    <tr>\n",
       "      <th>7</th>\n",
       "      <td>Engineering</td>\n",
       "      <td>20.499761</td>\n",
       "      <td>13.512228</td>\n",
       "      <td>26.529433</td>\n",
       "      <td>22.168287</td>\n",
       "      <td>15.997536</td>\n",
       "      <td>0.786891</td>\n",
       "      <td>0.759326</td>\n",
       "    </tr>\n",
       "    <tr>\n",
       "      <th>8</th>\n",
       "      <td>Environment/Ecology</td>\n",
       "      <td>13.160968</td>\n",
       "      <td>7.639180</td>\n",
       "      <td>24.436036</td>\n",
       "      <td>13.715583</td>\n",
       "      <td>7.328715</td>\n",
       "      <td>0.842851</td>\n",
       "      <td>0.916404</td>\n",
       "    </tr>\n",
       "    <tr>\n",
       "      <th>9</th>\n",
       "      <td>Geosciences</td>\n",
       "      <td>17.211262</td>\n",
       "      <td>10.946679</td>\n",
       "      <td>28.635705</td>\n",
       "      <td>18.773111</td>\n",
       "      <td>9.939035</td>\n",
       "      <td>0.801064</td>\n",
       "      <td>0.846024</td>\n",
       "    </tr>\n",
       "    <tr>\n",
       "      <th>10</th>\n",
       "      <td>Immunology</td>\n",
       "      <td>27.457692</td>\n",
       "      <td>11.565991</td>\n",
       "      <td>47.212972</td>\n",
       "      <td>29.459286</td>\n",
       "      <td>15.812490</td>\n",
       "      <td>0.680981</td>\n",
       "      <td>0.853032</td>\n",
       "    </tr>\n",
       "    <tr>\n",
       "      <th>11</th>\n",
       "      <td>Materials Science</td>\n",
       "      <td>28.932319</td>\n",
       "      <td>16.689300</td>\n",
       "      <td>36.911286</td>\n",
       "      <td>31.575059</td>\n",
       "      <td>22.807082</td>\n",
       "      <td>0.699414</td>\n",
       "      <td>0.699562</td>\n",
       "    </tr>\n",
       "    <tr>\n",
       "      <th>12</th>\n",
       "      <td>Mathematics</td>\n",
       "      <td>44.564234</td>\n",
       "      <td>23.412738</td>\n",
       "      <td>53.773527</td>\n",
       "      <td>46.421886</td>\n",
       "      <td>36.819912</td>\n",
       "      <td>0.545432</td>\n",
       "      <td>0.419231</td>\n",
       "    </tr>\n",
       "    <tr>\n",
       "      <th>13</th>\n",
       "      <td>Microbiology</td>\n",
       "      <td>32.182109</td>\n",
       "      <td>12.527014</td>\n",
       "      <td>54.178482</td>\n",
       "      <td>34.090806</td>\n",
       "      <td>18.507701</td>\n",
       "      <td>0.626369</td>\n",
       "      <td>0.830979</td>\n",
       "    </tr>\n",
       "    <tr>\n",
       "      <th>14</th>\n",
       "      <td>Molecular Biology &amp; Genetics</td>\n",
       "      <td>28.568080</td>\n",
       "      <td>10.179823</td>\n",
       "      <td>53.408006</td>\n",
       "      <td>29.237123</td>\n",
       "      <td>16.267790</td>\n",
       "      <td>0.660721</td>\n",
       "      <td>0.884014</td>\n",
       "    </tr>\n",
       "    <tr>\n",
       "      <th>15</th>\n",
       "      <td>Multidisciplinary</td>\n",
       "      <td>20.830172</td>\n",
       "      <td>7.820772</td>\n",
       "      <td>48.329807</td>\n",
       "      <td>20.206118</td>\n",
       "      <td>9.741749</td>\n",
       "      <td>0.723912</td>\n",
       "      <td>0.927712</td>\n",
       "    </tr>\n",
       "    <tr>\n",
       "      <th>16</th>\n",
       "      <td>Neuroscience &amp; Behavior</td>\n",
       "      <td>20.116826</td>\n",
       "      <td>9.336520</td>\n",
       "      <td>38.869090</td>\n",
       "      <td>20.409015</td>\n",
       "      <td>10.758019</td>\n",
       "      <td>0.751873</td>\n",
       "      <td>0.903036</td>\n",
       "    </tr>\n",
       "    <tr>\n",
       "      <th>17</th>\n",
       "      <td>Pharmacology &amp; Toxicology</td>\n",
       "      <td>25.103768</td>\n",
       "      <td>13.940485</td>\n",
       "      <td>36.307804</td>\n",
       "      <td>27.527374</td>\n",
       "      <td>17.362315</td>\n",
       "      <td>0.727774</td>\n",
       "      <td>0.791078</td>\n",
       "    </tr>\n",
       "    <tr>\n",
       "      <th>18</th>\n",
       "      <td>Physics</td>\n",
       "      <td>36.631927</td>\n",
       "      <td>18.605253</td>\n",
       "      <td>51.069967</td>\n",
       "      <td>40.819843</td>\n",
       "      <td>24.768246</td>\n",
       "      <td>0.604847</td>\n",
       "      <td>0.640618</td>\n",
       "    </tr>\n",
       "    <tr>\n",
       "      <th>19</th>\n",
       "      <td>Plant &amp; Animal Science</td>\n",
       "      <td>22.776842</td>\n",
       "      <td>10.933445</td>\n",
       "      <td>38.602383</td>\n",
       "      <td>23.763420</td>\n",
       "      <td>13.857123</td>\n",
       "      <td>0.737850</td>\n",
       "      <td>0.869961</td>\n",
       "    </tr>\n",
       "    <tr>\n",
       "      <th>20</th>\n",
       "      <td>Psychiatry/Psychology</td>\n",
       "      <td>10.936862</td>\n",
       "      <td>6.019417</td>\n",
       "      <td>23.878722</td>\n",
       "      <td>10.611828</td>\n",
       "      <td>5.342009</td>\n",
       "      <td>0.856492</td>\n",
       "      <td>0.945848</td>\n",
       "    </tr>\n",
       "    <tr>\n",
       "      <th>21</th>\n",
       "      <td>Social Sciences, General</td>\n",
       "      <td>4.271752</td>\n",
       "      <td>2.558115</td>\n",
       "      <td>9.591552</td>\n",
       "      <td>4.060629</td>\n",
       "      <td>2.170415</td>\n",
       "      <td>0.944376</td>\n",
       "      <td>0.978526</td>\n",
       "    </tr>\n",
       "    <tr>\n",
       "      <th>22</th>\n",
       "      <td>Space Sciences</td>\n",
       "      <td>41.112299</td>\n",
       "      <td>14.048177</td>\n",
       "      <td>66.599616</td>\n",
       "      <td>45.769990</td>\n",
       "      <td>22.210617</td>\n",
       "      <td>0.522307</td>\n",
       "      <td>0.768405</td>\n",
       "    </tr>\n",
       "  </tbody>\n",
       "</table>\n",
       "</div>"
      ],
      "text/plain": [
       "                             ESI  bot_tweets_p   per_diff        any  \\\n",
       "0          Agricultural Sciences     20.345658  11.914281  29.736095   \n",
       "1              Arts & Humanities      4.243537   2.797029   8.017828   \n",
       "2         Biology & Biochemistry     25.958696  11.092892  45.811471   \n",
       "3                      Chemistry     17.449191  11.773101  25.205331   \n",
       "4              Clinical Medicine     17.857444   8.763823  31.292803   \n",
       "5               Computer Science     19.912060  13.004691  31.466988   \n",
       "6           Economics & Business      6.649696   4.074000  12.325064   \n",
       "7                    Engineering     20.499761  13.512228  26.529433   \n",
       "8            Environment/Ecology     13.160968   7.639180  24.436036   \n",
       "9                    Geosciences     17.211262  10.946679  28.635705   \n",
       "10                    Immunology     27.457692  11.565991  47.212972   \n",
       "11             Materials Science     28.932319  16.689300  36.911286   \n",
       "12                   Mathematics     44.564234  23.412738  53.773527   \n",
       "13                  Microbiology     32.182109  12.527014  54.178482   \n",
       "14  Molecular Biology & Genetics     28.568080  10.179823  53.408006   \n",
       "15             Multidisciplinary     20.830172   7.820772  48.329807   \n",
       "16       Neuroscience & Behavior     20.116826   9.336520  38.869090   \n",
       "17     Pharmacology & Toxicology     25.103768  13.940485  36.307804   \n",
       "18                       Physics     36.631927  18.605253  51.069967   \n",
       "19        Plant & Animal Science     22.776842  10.933445  38.602383   \n",
       "20         Psychiatry/Psychology     10.936862   6.019417  23.878722   \n",
       "21      Social Sciences, General      4.271752   2.558115   9.591552   \n",
       "22                Space Sciences     41.112299  14.048177  66.599616   \n",
       "\n",
       "         half        all      gini      corr  \n",
       "0   21.636132  14.517683  0.781953  0.824404  \n",
       "1    4.192296   2.621624  0.950239  0.970478  \n",
       "2   26.836957  15.542072  0.698965  0.866728  \n",
       "3   19.295065  12.017849  0.809873  0.819194  \n",
       "4   18.535176  11.086549  0.795720  0.903549  \n",
       "5   21.397204  11.589382  0.774748  0.779765  \n",
       "6    6.664181   4.133214  0.922921  0.958192  \n",
       "7   22.168287  15.997536  0.786891  0.759326  \n",
       "8   13.715583   7.328715  0.842851  0.916404  \n",
       "9   18.773111   9.939035  0.801064  0.846024  \n",
       "10  29.459286  15.812490  0.680981  0.853032  \n",
       "11  31.575059  22.807082  0.699414  0.699562  \n",
       "12  46.421886  36.819912  0.545432  0.419231  \n",
       "13  34.090806  18.507701  0.626369  0.830979  \n",
       "14  29.237123  16.267790  0.660721  0.884014  \n",
       "15  20.206118   9.741749  0.723912  0.927712  \n",
       "16  20.409015  10.758019  0.751873  0.903036  \n",
       "17  27.527374  17.362315  0.727774  0.791078  \n",
       "18  40.819843  24.768246  0.604847  0.640618  \n",
       "19  23.763420  13.857123  0.737850  0.869961  \n",
       "20  10.611828   5.342009  0.856492  0.945848  \n",
       "21   4.060629   2.170415  0.944376  0.978526  \n",
       "22  45.769990  22.210617  0.522307  0.768405  "
      ]
     },
     "execution_count": 27,
     "metadata": {},
     "output_type": "execute_result"
    }
   ],
   "source": [
    "データ_tw_men_esi_paper"
   ]
  },
  {
   "cell_type": "markdown",
   "id": "a91d840d-8932-4373-ac77-3a6421ac495b",
   "metadata": {},
   "source": [
    "## 3. Categories"
   ]
  },
  {
   "cell_type": "code",
   "execution_count": 29,
   "id": "7ac7004f-a6e9-4ae8-95b9-6960c14c6563",
   "metadata": {},
   "outputs": [
    {
     "data": {
      "text/plain": [
       "(6267964, 2)"
      ]
     },
     "execution_count": 29,
     "metadata": {},
     "output_type": "execute_result"
    }
   ],
   "source": [
    "データ_tw_men_cat = pd.read_csv('data/final_mentions_full_bots_category.tsv', sep='\\t', encoding='UTF-8',\n",
    "                             dtype={'Outlet or Author':str, 'External Mention ID':str})\n",
    "データ_tw_men_cat = データ_tw_men_cat[['subject_category', 'DOI']].drop_duplicates().copy()\n",
    "データ_tw_men_cat.shape"
   ]
  },
  {
   "cell_type": "code",
   "execution_count": 30,
   "id": "3e3b2926-1160-4028-b300-e6379f87058d",
   "metadata": {},
   "outputs": [],
   "source": [
    "データ_tw_men_cat = データ_tw_men_cat.merge(データ_tw_men_paper, how='inner', on='DOI')"
   ]
  },
  {
   "cell_type": "markdown",
   "id": "c9c75463-ba75-4460-b56c-e0ea7a7681bf",
   "metadata": {},
   "source": [
    "### 3.1. Impact metrics"
   ]
  },
  {
   "cell_type": "code",
   "execution_count": 31,
   "id": "4bc359dd-09bf-40a0-9441-4d1618337638",
   "metadata": {},
   "outputs": [],
   "source": [
    "データ_tw_men_cat['tweets_per'] = None\n",
    "データ_tw_men_cat['tweets_no_bot_per'] = None\n",
    "データ_tw_men_cat['per_diff'] = None"
   ]
  },
  {
   "cell_type": "code",
   "execution_count": 32,
   "id": "388e8f6b-72d1-483e-abef-bd0ae6d217c3",
   "metadata": {},
   "outputs": [],
   "source": [
    "for category in list(set(データ_tw_men_cat['subject_category'])):\n",
    "    データ_tw_men_cat.loc[データ_tw_men_cat.subject_category==category, 'tweets_per'] = 100*データ_tw_men_cat.loc[データ_tw_men_cat.subject_category==category, 'tweets'].rank(pct=True)\n",
    "    データ_tw_men_cat.loc[データ_tw_men_cat.subject_category==category,'tweets_no_bot_per'] = 100*データ_tw_men_cat.loc[データ_tw_men_cat.subject_category==category, 'tweets_no_bot'].rank(pct=True)\n",
    "データ_tw_men_cat['per_diff'] = abs(データ_tw_men_cat['tweets_per']-データ_tw_men_cat['tweets_no_bot_per'])"
   ]
  },
  {
   "cell_type": "code",
   "execution_count": 33,
   "id": "fec69a74-8ec1-4932-846f-074d34350909",
   "metadata": {},
   "outputs": [],
   "source": [
    "データ_tw_men_cat_paper = データ_tw_men_cat.groupby('subject_category').agg({'bot_tweets_p':'mean', 'per_diff':'mean'}).reset_index()"
   ]
  },
  {
   "cell_type": "code",
   "execution_count": 34,
   "id": "62639f09-3486-4592-8203-25be6de88257",
   "metadata": {},
   "outputs": [],
   "source": [
    "データ_tw_men_cat_paper_aux = データ_tw_men_cat.groupby('subject_category').agg({\n",
    "    'bot_tweets_p': [\n",
    "        lambda x: 100*(x > 0).sum()/len(x),\n",
    "        lambda x: 100*(x >= 50).sum()/len(x),\n",
    "        lambda x: 100*(x == 100).sum()/len(x)\n",
    "    ]\n",
    "}).reset_index()\n",
    "データ_tw_men_cat_paper_aux.columns = ['subject_category', 'any', 'half', 'all']"
   ]
  },
  {
   "cell_type": "code",
   "execution_count": 35,
   "id": "2156a903-58cf-480c-a6e6-307ec59abaca",
   "metadata": {},
   "outputs": [],
   "source": [
    "データ_tw_men_cat_paper = データ_tw_men_cat_paper.merge(データ_tw_men_cat_paper_aux, how='inner', on='subject_category')"
   ]
  },
  {
   "cell_type": "code",
   "execution_count": 36,
   "id": "715f666b-d478-405b-a563-a45b195c58ce",
   "metadata": {},
   "outputs": [],
   "source": [
    "データ_tw_men_cat_gini = データ_tw_men_cat.groupby('subject_category').apply(\n",
    "    lambda x: gini(np.array(x['bot_tweets_p']))\n",
    ").reset_index().rename({0:'gini'}, axis=1)"
   ]
  },
  {
   "cell_type": "code",
   "execution_count": 37,
   "id": "3a57cd17-3efe-4a81-a578-fc17e88ba019",
   "metadata": {},
   "outputs": [],
   "source": [
    "データ_tw_men_cat_paper = データ_tw_men_cat_paper.merge(データ_tw_men_cat_gini, how='inner', on='subject_category')"
   ]
  },
  {
   "cell_type": "code",
   "execution_count": 38,
   "id": "e04e42e0-c7f0-47b5-a085-11550a374252",
   "metadata": {},
   "outputs": [],
   "source": [
    "データ_tw_men_cat_corr = データ_tw_men_cat.groupby('subject_category').apply(\n",
    "    lambda x: scipy.stats.spearmanr(x['tweets'], x['tweets_no_bot'])[0]\n",
    ").reset_index().rename({0:'corr'}, axis=1)"
   ]
  },
  {
   "cell_type": "code",
   "execution_count": 39,
   "id": "859d89dc-e5af-484b-8078-60165fe2ae9c",
   "metadata": {},
   "outputs": [],
   "source": [
    "データ_tw_men_cat_paper = データ_tw_men_cat_paper.merge(データ_tw_men_cat_corr, how='inner', on='subject_category')"
   ]
  },
  {
   "cell_type": "code",
   "execution_count": 41,
   "id": "66a6e19c-1979-496d-baa0-51749ff39d22",
   "metadata": {},
   "outputs": [
    {
     "data": {
      "text/html": [
       "<div>\n",
       "<style scoped>\n",
       "    .dataframe tbody tr th:only-of-type {\n",
       "        vertical-align: middle;\n",
       "    }\n",
       "\n",
       "    .dataframe tbody tr th {\n",
       "        vertical-align: top;\n",
       "    }\n",
       "\n",
       "    .dataframe thead th {\n",
       "        text-align: right;\n",
       "    }\n",
       "</style>\n",
       "<table border=\"1\" class=\"dataframe\">\n",
       "  <thead>\n",
       "    <tr style=\"text-align: right;\">\n",
       "      <th></th>\n",
       "      <th>subject_category</th>\n",
       "      <th>bot_tweets_p</th>\n",
       "      <th>per_diff</th>\n",
       "      <th>any</th>\n",
       "      <th>half</th>\n",
       "      <th>all</th>\n",
       "      <th>gini</th>\n",
       "      <th>0</th>\n",
       "    </tr>\n",
       "  </thead>\n",
       "  <tbody>\n",
       "    <tr>\n",
       "      <th>148</th>\n",
       "      <td>Mathematics, Applied</td>\n",
       "      <td>58.918080</td>\n",
       "      <td>30.274198</td>\n",
       "      <td>64.204800</td>\n",
       "      <td>61.350400</td>\n",
       "      <td>52.716800</td>\n",
       "      <td>0.407596</td>\n",
       "      <td>0.022913</td>\n",
       "    </tr>\n",
       "    <tr>\n",
       "      <th>147</th>\n",
       "      <td>Mathematics</td>\n",
       "      <td>70.908004</td>\n",
       "      <td>29.502504</td>\n",
       "      <td>75.429482</td>\n",
       "      <td>73.476032</td>\n",
       "      <td>65.343585</td>\n",
       "      <td>0.288677</td>\n",
       "      <td>0.040570</td>\n",
       "    </tr>\n",
       "    <tr>\n",
       "      <th>150</th>\n",
       "      <td>Mechanics</td>\n",
       "      <td>41.941993</td>\n",
       "      <td>23.076289</td>\n",
       "      <td>48.797954</td>\n",
       "      <td>44.947022</td>\n",
       "      <td>35.652174</td>\n",
       "      <td>0.574131</td>\n",
       "      <td>0.411700</td>\n",
       "    </tr>\n",
       "    <tr>\n",
       "      <th>193</th>\n",
       "      <td>Physics, Mathematical</td>\n",
       "      <td>63.810002</td>\n",
       "      <td>20.711085</td>\n",
       "      <td>80.165887</td>\n",
       "      <td>70.684473</td>\n",
       "      <td>46.950500</td>\n",
       "      <td>0.335258</td>\n",
       "      <td>0.482352</td>\n",
       "    </tr>\n",
       "    <tr>\n",
       "      <th>239</th>\n",
       "      <td>Telecommunications</td>\n",
       "      <td>18.404655</td>\n",
       "      <td>16.544852</td>\n",
       "      <td>21.337766</td>\n",
       "      <td>19.391747</td>\n",
       "      <td>15.382359</td>\n",
       "      <td>0.813263</td>\n",
       "      <td>0.544313</td>\n",
       "    </tr>\n",
       "    <tr>\n",
       "      <th>18</th>\n",
       "      <td>Automation &amp; Control Systems</td>\n",
       "      <td>18.573556</td>\n",
       "      <td>16.254131</td>\n",
       "      <td>21.241750</td>\n",
       "      <td>19.921780</td>\n",
       "      <td>15.472989</td>\n",
       "      <td>0.811639</td>\n",
       "      <td>0.559103</td>\n",
       "    </tr>\n",
       "    <tr>\n",
       "      <th>192</th>\n",
       "      <td>Physics, Fluids &amp; Plasmas</td>\n",
       "      <td>45.227702</td>\n",
       "      <td>19.970798</td>\n",
       "      <td>57.466063</td>\n",
       "      <td>49.032444</td>\n",
       "      <td>34.884952</td>\n",
       "      <td>0.530071</td>\n",
       "      <td>0.569387</td>\n",
       "    </tr>\n",
       "    <tr>\n",
       "      <th>72</th>\n",
       "      <td>Engineering, Electrical &amp; Electronic</td>\n",
       "      <td>20.111171</td>\n",
       "      <td>16.761985</td>\n",
       "      <td>24.841597</td>\n",
       "      <td>21.887257</td>\n",
       "      <td>14.937645</td>\n",
       "      <td>0.792126</td>\n",
       "      <td>0.581343</td>\n",
       "    </tr>\n",
       "    <tr>\n",
       "      <th>2</th>\n",
       "      <td>Agricultural Engineering</td>\n",
       "      <td>29.370928</td>\n",
       "      <td>18.577972</td>\n",
       "      <td>33.542714</td>\n",
       "      <td>31.281407</td>\n",
       "      <td>25.533920</td>\n",
       "      <td>0.702456</td>\n",
       "      <td>0.594718</td>\n",
       "    </tr>\n",
       "    <tr>\n",
       "      <th>138</th>\n",
       "      <td>Materials Science, Biomaterials</td>\n",
       "      <td>39.833317</td>\n",
       "      <td>18.439857</td>\n",
       "      <td>48.070993</td>\n",
       "      <td>42.790610</td>\n",
       "      <td>32.727044</td>\n",
       "      <td>0.592283</td>\n",
       "      <td>0.625495</td>\n",
       "    </tr>\n",
       "    <tr>\n",
       "      <th>32</th>\n",
       "      <td>Chemistry, Applied</td>\n",
       "      <td>32.163986</td>\n",
       "      <td>18.541506</td>\n",
       "      <td>37.931532</td>\n",
       "      <td>34.969709</td>\n",
       "      <td>26.959323</td>\n",
       "      <td>0.671853</td>\n",
       "      <td>0.627142</td>\n",
       "    </tr>\n",
       "    <tr>\n",
       "      <th>191</th>\n",
       "      <td>Physics, Condensed Matter</td>\n",
       "      <td>43.449829</td>\n",
       "      <td>17.715211</td>\n",
       "      <td>58.340171</td>\n",
       "      <td>48.701592</td>\n",
       "      <td>31.315638</td>\n",
       "      <td>0.537937</td>\n",
       "      <td>0.652606</td>\n",
       "    </tr>\n",
       "    <tr>\n",
       "      <th>189</th>\n",
       "      <td>Physics, Applied</td>\n",
       "      <td>34.083061</td>\n",
       "      <td>18.286332</td>\n",
       "      <td>44.141380</td>\n",
       "      <td>37.588717</td>\n",
       "      <td>26.085108</td>\n",
       "      <td>0.643266</td>\n",
       "      <td>0.655819</td>\n",
       "    </tr>\n",
       "    <tr>\n",
       "      <th>195</th>\n",
       "      <td>Physics, Nuclear</td>\n",
       "      <td>53.214950</td>\n",
       "      <td>16.123619</td>\n",
       "      <td>75.242488</td>\n",
       "      <td>61.819168</td>\n",
       "      <td>33.358204</td>\n",
       "      <td>0.412450</td>\n",
       "      <td>0.657480</td>\n",
       "    </tr>\n",
       "    <tr>\n",
       "      <th>81</th>\n",
       "      <td>Engineering, Petroleum</td>\n",
       "      <td>10.200946</td>\n",
       "      <td>9.138122</td>\n",
       "      <td>11.347518</td>\n",
       "      <td>10.638298</td>\n",
       "      <td>9.219858</td>\n",
       "      <td>0.897212</td>\n",
       "      <td>0.665045</td>\n",
       "    </tr>\n",
       "    <tr>\n",
       "      <th>142</th>\n",
       "      <td>Materials Science, Composites</td>\n",
       "      <td>14.106037</td>\n",
       "      <td>11.774623</td>\n",
       "      <td>15.350877</td>\n",
       "      <td>14.385965</td>\n",
       "      <td>13.157895</td>\n",
       "      <td>0.858403</td>\n",
       "      <td>0.673285</td>\n",
       "    </tr>\n",
       "    <tr>\n",
       "      <th>70</th>\n",
       "      <td>Engineering, Chemical</td>\n",
       "      <td>34.429069</td>\n",
       "      <td>17.514923</td>\n",
       "      <td>39.029543</td>\n",
       "      <td>36.309983</td>\n",
       "      <td>30.894336</td>\n",
       "      <td>0.652221</td>\n",
       "      <td>0.679597</td>\n",
       "    </tr>\n",
       "    <tr>\n",
       "      <th>41</th>\n",
       "      <td>Computer Science, Artificial Intelligence</td>\n",
       "      <td>17.184635</td>\n",
       "      <td>14.102458</td>\n",
       "      <td>24.265718</td>\n",
       "      <td>19.418311</td>\n",
       "      <td>10.021799</td>\n",
       "      <td>0.813116</td>\n",
       "      <td>0.688285</td>\n",
       "    </tr>\n",
       "    <tr>\n",
       "      <th>161</th>\n",
       "      <td>Microscopy</td>\n",
       "      <td>23.841019</td>\n",
       "      <td>15.935907</td>\n",
       "      <td>30.658839</td>\n",
       "      <td>25.766471</td>\n",
       "      <td>18.525766</td>\n",
       "      <td>0.751263</td>\n",
       "      <td>0.693072</td>\n",
       "    </tr>\n",
       "    <tr>\n",
       "      <th>149</th>\n",
       "      <td>Mathematics, Interdisciplinary Applications</td>\n",
       "      <td>22.924658</td>\n",
       "      <td>15.532538</td>\n",
       "      <td>29.375254</td>\n",
       "      <td>24.399674</td>\n",
       "      <td>17.958893</td>\n",
       "      <td>0.763234</td>\n",
       "      <td>0.693353</td>\n",
       "    </tr>\n",
       "    <tr>\n",
       "      <th>139</th>\n",
       "      <td>Materials Science, Ceramics</td>\n",
       "      <td>14.870321</td>\n",
       "      <td>12.127715</td>\n",
       "      <td>16.534041</td>\n",
       "      <td>15.561450</td>\n",
       "      <td>13.527851</td>\n",
       "      <td>0.850180</td>\n",
       "      <td>0.694119</td>\n",
       "    </tr>\n",
       "    <tr>\n",
       "      <th>93</th>\n",
       "      <td>Food Science &amp; Technology</td>\n",
       "      <td>25.937050</td>\n",
       "      <td>16.178197</td>\n",
       "      <td>33.600769</td>\n",
       "      <td>28.220034</td>\n",
       "      <td>19.783810</td>\n",
       "      <td>0.729473</td>\n",
       "      <td>0.703505</td>\n",
       "    </tr>\n",
       "    <tr>\n",
       "      <th>143</th>\n",
       "      <td>Materials Science, Multidisciplinary</td>\n",
       "      <td>28.584997</td>\n",
       "      <td>16.528336</td>\n",
       "      <td>37.212734</td>\n",
       "      <td>31.290684</td>\n",
       "      <td>22.099928</td>\n",
       "      <td>0.701168</td>\n",
       "      <td>0.707553</td>\n",
       "    </tr>\n",
       "    <tr>\n",
       "      <th>196</th>\n",
       "      <td>Physics, Particles &amp; Fields</td>\n",
       "      <td>57.737361</td>\n",
       "      <td>15.736272</td>\n",
       "      <td>85.902345</td>\n",
       "      <td>66.357464</td>\n",
       "      <td>32.205731</td>\n",
       "      <td>0.347493</td>\n",
       "      <td>0.709802</td>\n",
       "    </tr>\n",
       "    <tr>\n",
       "      <th>55</th>\n",
       "      <td>Dentistry, Oral Surgery &amp; Medicine</td>\n",
       "      <td>25.585730</td>\n",
       "      <td>15.752781</td>\n",
       "      <td>33.547057</td>\n",
       "      <td>27.631479</td>\n",
       "      <td>19.876345</td>\n",
       "      <td>0.733337</td>\n",
       "      <td>0.714740</td>\n",
       "    </tr>\n",
       "  </tbody>\n",
       "</table>\n",
       "</div>"
      ],
      "text/plain": [
       "                                subject_category  bot_tweets_p   per_diff  \\\n",
       "148                         Mathematics, Applied     58.918080  30.274198   \n",
       "147                                  Mathematics     70.908004  29.502504   \n",
       "150                                    Mechanics     41.941993  23.076289   \n",
       "193                        Physics, Mathematical     63.810002  20.711085   \n",
       "239                           Telecommunications     18.404655  16.544852   \n",
       "18                  Automation & Control Systems     18.573556  16.254131   \n",
       "192                    Physics, Fluids & Plasmas     45.227702  19.970798   \n",
       "72          Engineering, Electrical & Electronic     20.111171  16.761985   \n",
       "2                       Agricultural Engineering     29.370928  18.577972   \n",
       "138              Materials Science, Biomaterials     39.833317  18.439857   \n",
       "32                            Chemistry, Applied     32.163986  18.541506   \n",
       "191                    Physics, Condensed Matter     43.449829  17.715211   \n",
       "189                             Physics, Applied     34.083061  18.286332   \n",
       "195                             Physics, Nuclear     53.214950  16.123619   \n",
       "81                        Engineering, Petroleum     10.200946   9.138122   \n",
       "142                Materials Science, Composites     14.106037  11.774623   \n",
       "70                         Engineering, Chemical     34.429069  17.514923   \n",
       "41     Computer Science, Artificial Intelligence     17.184635  14.102458   \n",
       "161                                   Microscopy     23.841019  15.935907   \n",
       "149  Mathematics, Interdisciplinary Applications     22.924658  15.532538   \n",
       "139                  Materials Science, Ceramics     14.870321  12.127715   \n",
       "93                     Food Science & Technology     25.937050  16.178197   \n",
       "143         Materials Science, Multidisciplinary     28.584997  16.528336   \n",
       "196                  Physics, Particles & Fields     57.737361  15.736272   \n",
       "55            Dentistry, Oral Surgery & Medicine     25.585730  15.752781   \n",
       "\n",
       "           any       half        all      gini         0  \n",
       "148  64.204800  61.350400  52.716800  0.407596  0.022913  \n",
       "147  75.429482  73.476032  65.343585  0.288677  0.040570  \n",
       "150  48.797954  44.947022  35.652174  0.574131  0.411700  \n",
       "193  80.165887  70.684473  46.950500  0.335258  0.482352  \n",
       "239  21.337766  19.391747  15.382359  0.813263  0.544313  \n",
       "18   21.241750  19.921780  15.472989  0.811639  0.559103  \n",
       "192  57.466063  49.032444  34.884952  0.530071  0.569387  \n",
       "72   24.841597  21.887257  14.937645  0.792126  0.581343  \n",
       "2    33.542714  31.281407  25.533920  0.702456  0.594718  \n",
       "138  48.070993  42.790610  32.727044  0.592283  0.625495  \n",
       "32   37.931532  34.969709  26.959323  0.671853  0.627142  \n",
       "191  58.340171  48.701592  31.315638  0.537937  0.652606  \n",
       "189  44.141380  37.588717  26.085108  0.643266  0.655819  \n",
       "195  75.242488  61.819168  33.358204  0.412450  0.657480  \n",
       "81   11.347518  10.638298   9.219858  0.897212  0.665045  \n",
       "142  15.350877  14.385965  13.157895  0.858403  0.673285  \n",
       "70   39.029543  36.309983  30.894336  0.652221  0.679597  \n",
       "41   24.265718  19.418311  10.021799  0.813116  0.688285  \n",
       "161  30.658839  25.766471  18.525766  0.751263  0.693072  \n",
       "149  29.375254  24.399674  17.958893  0.763234  0.693353  \n",
       "139  16.534041  15.561450  13.527851  0.850180  0.694119  \n",
       "93   33.600769  28.220034  19.783810  0.729473  0.703505  \n",
       "143  37.212734  31.290684  22.099928  0.701168  0.707553  \n",
       "196  85.902345  66.357464  32.205731  0.347493  0.709802  \n",
       "55   33.547057  27.631479  19.876345  0.733337  0.714740  "
      ]
     },
     "execution_count": 41,
     "metadata": {},
     "output_type": "execute_result"
    }
   ],
   "source": [
    "データ_tw_men_cat_paper.sort_values(0).head(25)"
   ]
  },
  {
   "cell_type": "markdown",
   "id": "5d10c1d6-1aef-443f-93e2-9e90e2c5f004",
   "metadata": {},
   "source": [
    "### 3.2. Categories by main areas"
   ]
  },
  {
   "cell_type": "code",
   "execution_count": 46,
   "id": "ee8845f6-fad0-4429-983a-807f47e66538",
   "metadata": {},
   "outputs": [
    {
     "data": {
      "text/html": [
       "<div>\n",
       "<style scoped>\n",
       "    .dataframe tbody tr th:only-of-type {\n",
       "        vertical-align: middle;\n",
       "    }\n",
       "\n",
       "    .dataframe tbody tr th {\n",
       "        vertical-align: top;\n",
       "    }\n",
       "\n",
       "    .dataframe thead th {\n",
       "        text-align: right;\n",
       "    }\n",
       "</style>\n",
       "<table border=\"1\" class=\"dataframe\">\n",
       "  <thead>\n",
       "    <tr style=\"text-align: right;\">\n",
       "      <th></th>\n",
       "      <th>subject_category</th>\n",
       "      <th>SC</th>\n",
       "      <th>ESI</th>\n",
       "      <th>Category</th>\n",
       "    </tr>\n",
       "  </thead>\n",
       "  <tbody>\n",
       "    <tr>\n",
       "      <th>0</th>\n",
       "      <td>Agricultural Economics &amp; Policy</td>\n",
       "      <td>Agriculture</td>\n",
       "      <td>Agricultural Sciences</td>\n",
       "      <td>Life Sciences &amp; Biomedicine</td>\n",
       "    </tr>\n",
       "    <tr>\n",
       "      <th>1</th>\n",
       "      <td>Agricultural Engineering</td>\n",
       "      <td>Agriculture</td>\n",
       "      <td>Agricultural Sciences</td>\n",
       "      <td>Life Sciences &amp; Biomedicine</td>\n",
       "    </tr>\n",
       "    <tr>\n",
       "      <th>2</th>\n",
       "      <td>Agriculture, Dairy &amp; Animal Science</td>\n",
       "      <td>Agriculture</td>\n",
       "      <td>Agricultural Sciences</td>\n",
       "      <td>Life Sciences &amp; Biomedicine</td>\n",
       "    </tr>\n",
       "    <tr>\n",
       "      <th>3</th>\n",
       "      <td>Agriculture, Multidisciplinary</td>\n",
       "      <td>Agriculture</td>\n",
       "      <td>Agricultural Sciences</td>\n",
       "      <td>Life Sciences &amp; Biomedicine</td>\n",
       "    </tr>\n",
       "    <tr>\n",
       "      <th>4</th>\n",
       "      <td>Agronomy</td>\n",
       "      <td>Agriculture</td>\n",
       "      <td>Agricultural Sciences</td>\n",
       "      <td>Life Sciences &amp; Biomedicine</td>\n",
       "    </tr>\n",
       "    <tr>\n",
       "      <th>...</th>\n",
       "      <td>...</td>\n",
       "      <td>...</td>\n",
       "      <td>...</td>\n",
       "      <td>...</td>\n",
       "    </tr>\n",
       "    <tr>\n",
       "      <th>249</th>\n",
       "      <td>Urban Studies</td>\n",
       "      <td>Urban Studies</td>\n",
       "      <td>Social Sciences, General</td>\n",
       "      <td>Social Sciences</td>\n",
       "    </tr>\n",
       "    <tr>\n",
       "      <th>250</th>\n",
       "      <td>Women's Studies</td>\n",
       "      <td>Women's Studies</td>\n",
       "      <td>Social Sciences, General</td>\n",
       "      <td>Social Sciences</td>\n",
       "    </tr>\n",
       "    <tr>\n",
       "      <th>251</th>\n",
       "      <td>Astronomy &amp; Astrophysics</td>\n",
       "      <td>Astronomy &amp; Astrophysics</td>\n",
       "      <td>Space Sciences</td>\n",
       "      <td>Physical Sciences</td>\n",
       "    </tr>\n",
       "    <tr>\n",
       "      <th>252</th>\n",
       "      <td>Tropical Medicine</td>\n",
       "      <td>Tropical Medicine</td>\n",
       "      <td>Clinical Medicine</td>\n",
       "      <td>Life Sciences &amp; Biomedicine</td>\n",
       "    </tr>\n",
       "    <tr>\n",
       "      <th>253</th>\n",
       "      <td>Water Resources</td>\n",
       "      <td>Water Resources</td>\n",
       "      <td>Geosciences</td>\n",
       "      <td>Physical Sciences</td>\n",
       "    </tr>\n",
       "  </tbody>\n",
       "</table>\n",
       "<p>254 rows × 4 columns</p>\n",
       "</div>"
      ],
      "text/plain": [
       "                        subject_category                        SC  \\\n",
       "0        Agricultural Economics & Policy               Agriculture   \n",
       "1               Agricultural Engineering               Agriculture   \n",
       "2    Agriculture, Dairy & Animal Science               Agriculture   \n",
       "3         Agriculture, Multidisciplinary               Agriculture   \n",
       "4                               Agronomy               Agriculture   \n",
       "..                                   ...                       ...   \n",
       "249                        Urban Studies             Urban Studies   \n",
       "250                      Women's Studies           Women's Studies   \n",
       "251             Astronomy & Astrophysics  Astronomy & Astrophysics   \n",
       "252                    Tropical Medicine         Tropical Medicine   \n",
       "253                      Water Resources           Water Resources   \n",
       "\n",
       "                          ESI                     Category  \n",
       "0       Agricultural Sciences  Life Sciences & Biomedicine  \n",
       "1       Agricultural Sciences  Life Sciences & Biomedicine  \n",
       "2       Agricultural Sciences  Life Sciences & Biomedicine  \n",
       "3       Agricultural Sciences  Life Sciences & Biomedicine  \n",
       "4       Agricultural Sciences  Life Sciences & Biomedicine  \n",
       "..                        ...                          ...  \n",
       "249  Social Sciences, General              Social Sciences  \n",
       "250  Social Sciences, General              Social Sciences  \n",
       "251            Space Sciences            Physical Sciences  \n",
       "252         Clinical Medicine  Life Sciences & Biomedicine  \n",
       "253               Geosciences            Physical Sciences  \n",
       "\n",
       "[254 rows x 4 columns]"
      ]
     },
     "execution_count": 46,
     "metadata": {},
     "output_type": "execute_result"
    }
   ],
   "source": [
    "データ_esi = pd.read_csv('data/mapping.csv', sep=';')\n",
    "データ_esi.rename({'WC':'subject_category'}, axis=1, inplace=True)\n",
    "データ_esi"
   ]
  },
  {
   "cell_type": "code",
   "execution_count": 49,
   "id": "d4ed4202-3a76-41d2-acae-751859da1de4",
   "metadata": {},
   "outputs": [],
   "source": [
    "データ_tw_men_cat_paper_area = データ_tw_men_cat_paper.merge(データ_esi[['subject_category', 'Category']], on='subject_category')"
   ]
  },
  {
   "cell_type": "code",
   "execution_count": 51,
   "id": "a1f3f085-ad8c-452e-aad9-5501a0f5f7a8",
   "metadata": {},
   "outputs": [
    {
     "data": {
      "text/plain": [
       "Life Sciences & Biomedicine    95\n",
       "Technology                     51\n",
       "Social Sciences                46\n",
       "Physical Sciences              34\n",
       "Arts & Humanities              27\n",
       "Multidisciplinary               1\n",
       "Name: Category, dtype: int64"
      ]
     },
     "execution_count": 51,
     "metadata": {},
     "output_type": "execute_result"
    }
   ],
   "source": [
    "データ_tw_men_cat_paper_area.Category.value_counts()"
   ]
  },
  {
   "cell_type": "code",
   "execution_count": 60,
   "id": "bba37094-f4c2-4fe8-942d-679e9ec47ef4",
   "metadata": {},
   "outputs": [
    {
     "data": {
      "text/html": [
       "<div>\n",
       "<style scoped>\n",
       "    .dataframe tbody tr th:only-of-type {\n",
       "        vertical-align: middle;\n",
       "    }\n",
       "\n",
       "    .dataframe tbody tr th {\n",
       "        vertical-align: top;\n",
       "    }\n",
       "\n",
       "    .dataframe thead th {\n",
       "        text-align: right;\n",
       "    }\n",
       "</style>\n",
       "<table border=\"1\" class=\"dataframe\">\n",
       "  <thead>\n",
       "    <tr style=\"text-align: right;\">\n",
       "      <th></th>\n",
       "      <th>subject_category</th>\n",
       "      <th>bot_tweets_p</th>\n",
       "      <th>per_diff</th>\n",
       "      <th>any</th>\n",
       "      <th>half</th>\n",
       "      <th>all</th>\n",
       "      <th>gini</th>\n",
       "      <th>0</th>\n",
       "      <th>Category</th>\n",
       "    </tr>\n",
       "  </thead>\n",
       "  <tbody>\n",
       "    <tr>\n",
       "      <th>150</th>\n",
       "      <td>Mechanics</td>\n",
       "      <td>41.941993</td>\n",
       "      <td>23.076289</td>\n",
       "      <td>48.797954</td>\n",
       "      <td>44.947022</td>\n",
       "      <td>35.652174</td>\n",
       "      <td>0.574131</td>\n",
       "      <td>0.411700</td>\n",
       "      <td>Technology</td>\n",
       "    </tr>\n",
       "    <tr>\n",
       "      <th>239</th>\n",
       "      <td>Telecommunications</td>\n",
       "      <td>18.404655</td>\n",
       "      <td>16.544852</td>\n",
       "      <td>21.337766</td>\n",
       "      <td>19.391747</td>\n",
       "      <td>15.382359</td>\n",
       "      <td>0.813263</td>\n",
       "      <td>0.544313</td>\n",
       "      <td>Technology</td>\n",
       "    </tr>\n",
       "    <tr>\n",
       "      <th>18</th>\n",
       "      <td>Automation &amp; Control Systems</td>\n",
       "      <td>18.573556</td>\n",
       "      <td>16.254131</td>\n",
       "      <td>21.241750</td>\n",
       "      <td>19.921780</td>\n",
       "      <td>15.472989</td>\n",
       "      <td>0.811639</td>\n",
       "      <td>0.559103</td>\n",
       "      <td>Technology</td>\n",
       "    </tr>\n",
       "    <tr>\n",
       "      <th>72</th>\n",
       "      <td>Engineering, Electrical &amp; Electronic</td>\n",
       "      <td>20.111171</td>\n",
       "      <td>16.761985</td>\n",
       "      <td>24.841597</td>\n",
       "      <td>21.887257</td>\n",
       "      <td>14.937645</td>\n",
       "      <td>0.792126</td>\n",
       "      <td>0.581343</td>\n",
       "      <td>Technology</td>\n",
       "    </tr>\n",
       "    <tr>\n",
       "      <th>138</th>\n",
       "      <td>Materials Science, Biomaterials</td>\n",
       "      <td>39.833317</td>\n",
       "      <td>18.439857</td>\n",
       "      <td>48.070993</td>\n",
       "      <td>42.790610</td>\n",
       "      <td>32.727044</td>\n",
       "      <td>0.592283</td>\n",
       "      <td>0.625495</td>\n",
       "      <td>Technology</td>\n",
       "    </tr>\n",
       "  </tbody>\n",
       "</table>\n",
       "</div>"
      ],
      "text/plain": [
       "                         subject_category  bot_tweets_p   per_diff        any  \\\n",
       "150                             Mechanics     41.941993  23.076289  48.797954   \n",
       "239                    Telecommunications     18.404655  16.544852  21.337766   \n",
       "18           Automation & Control Systems     18.573556  16.254131  21.241750   \n",
       "72   Engineering, Electrical & Electronic     20.111171  16.761985  24.841597   \n",
       "138       Materials Science, Biomaterials     39.833317  18.439857  48.070993   \n",
       "\n",
       "          half        all      gini         0    Category  \n",
       "150  44.947022  35.652174  0.574131  0.411700  Technology  \n",
       "239  19.391747  15.382359  0.813263  0.544313  Technology  \n",
       "18   19.921780  15.472989  0.811639  0.559103  Technology  \n",
       "72   21.887257  14.937645  0.792126  0.581343  Technology  \n",
       "138  42.790610  32.727044  0.592283  0.625495  Technology  "
      ]
     },
     "execution_count": 60,
     "metadata": {},
     "output_type": "execute_result"
    }
   ],
   "source": [
    "データ_tw_men_cat_paper_area[データ_tw_men_cat_paper_area.Category=='Technology'].sort_values(0).head(5)"
   ]
  }
 ],
 "metadata": {
  "kernelspec": {
   "display_name": "Python 3 (ipykernel)",
   "language": "python",
   "name": "python3"
  },
  "language_info": {
   "codemirror_mode": {
    "name": "ipython",
    "version": 3
   },
   "file_extension": ".py",
   "mimetype": "text/x-python",
   "name": "python",
   "nbconvert_exporter": "python",
   "pygments_lexer": "ipython3",
   "version": "3.11.5"
  }
 },
 "nbformat": 4,
 "nbformat_minor": 5
}
