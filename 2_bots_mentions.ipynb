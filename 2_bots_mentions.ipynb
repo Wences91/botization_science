{
 "cells": [
  {
   "cell_type": "markdown",
   "id": "d5d6c441-020b-4e29-b70b-172d67155910",
   "metadata": {
    "tags": []
   },
   "source": [
    "# Bots in Science 🧪"
   ]
  },
  {
   "cell_type": "markdown",
   "id": "e6a4e48a-2991-4972-9f82-0d1cc762e774",
   "metadata": {},
   "source": [
    "In this notebook, mentions made by bots are identified:\n",
    "+ (1) globally 🌍\n",
    "+ (2) by Web of Science category 📖\n",
    "+ (3) by ESI field 📚"
   ]
  },
  {
   "cell_type": "markdown",
   "id": "ffe52705-2923-4ef1-84b3-9eec34579637",
   "metadata": {},
   "source": [
    "## Libraries"
   ]
  },
  {
   "cell_type": "code",
   "execution_count": 1,
   "id": "2799d198-d71a-4ad2-a58e-18cefed8c5b7",
   "metadata": {},
   "outputs": [],
   "source": [
    "import pandas as pd"
   ]
  },
  {
   "cell_type": "markdown",
   "id": "54d73f09-6333-4e25-a94f-ee62c4e686bb",
   "metadata": {},
   "source": [
    "## 1. Overall bots"
   ]
  },
  {
   "cell_type": "markdown",
   "id": "09ee6694-0954-47d1-bef0-f8b51a2e1cc2",
   "metadata": {},
   "source": [
    "### 1.1. Preprocessing"
   ]
  },
  {
   "cell_type": "markdown",
   "id": "b48f1f32-99bb-4789-acd6-bf94dbe3786b",
   "metadata": {},
   "source": [
    "Mentions made by tweeters for whom a botscore could be estimated are filtered (98.5%)."
   ]
  },
  {
   "cell_type": "code",
   "execution_count": 2,
   "id": "2a7391f3-119c-4a87-8648-1172ab09ae35",
   "metadata": {},
   "outputs": [
    {
     "data": {
      "text/plain": [
       "(51999245, 5)"
      ]
     },
     "execution_count": 2,
     "metadata": {},
     "output_type": "execute_result"
    }
   ],
   "source": [
    "データ_tw_men = pd.read_csv('data/final_mentions_full.tsv', sep='\\t',\n",
    "                         dtype={'Outlet or Author':str, 'External Mention ID':str},\n",
    "                         encoding='UTF-8')\n",
    "データ_tw_men.shape"
   ]
  },
  {
   "cell_type": "code",
   "execution_count": 3,
   "id": "ee5b6366-d739-43e5-96fd-8e8ece329f48",
   "metadata": {},
   "outputs": [
    {
     "data": {
      "text/plain": [
       "(4872369, 2)"
      ]
     },
     "execution_count": 3,
     "metadata": {},
     "output_type": "execute_result"
    }
   ],
   "source": [
    "データ_botscore = pd.read_csv('data/full_botometer_results.tsv', sep='\\t', dtype={'user_id':str})\n",
    "データ_botscore.shape"
   ]
  },
  {
   "cell_type": "code",
   "execution_count": 5,
   "id": "2565e5d3-d80c-4aef-82bf-dd17b00e0f65",
   "metadata": {},
   "outputs": [
    {
     "data": {
      "text/plain": [
       "(51230936, 5)"
      ]
     },
     "execution_count": 5,
     "metadata": {},
     "output_type": "execute_result"
    }
   ],
   "source": [
    "データ_tw_men = データ_tw_men[データ_tw_men['Outlet or Author'].isin(データ_botscore.user_id.tolist())].copy()\n",
    "データ_tw_men.shape"
   ]
  },
  {
   "cell_type": "markdown",
   "id": "59ee14b3-a090-41ff-b706-6eed0d6c2e1d",
   "metadata": {},
   "source": [
    "### 1.2. Bots"
   ]
  },
  {
   "cell_type": "markdown",
   "id": "28cf0b9c-76c9-413e-9785-dd0cb0f56b88",
   "metadata": {},
   "source": [
    "The mentions are labeled according to whether the tweeter making them is a bot or not."
   ]
  },
  {
   "cell_type": "code",
   "execution_count": 4,
   "id": "b52d597f-3ec1-4310-a3df-92c970887378",
   "metadata": {},
   "outputs": [
    {
     "data": {
      "text/plain": [
       "(11073, 1)"
      ]
     },
     "execution_count": 4,
     "metadata": {},
     "output_type": "execute_result"
    }
   ],
   "source": [
    "データ_bots = pd.read_csv('results/bots_list.tsv', sep='\\t', dtype={'Outlet or Author':str})\n",
    "データ_bots.shape"
   ]
  },
  {
   "cell_type": "code",
   "execution_count": 7,
   "id": "01234146-42fb-481a-9502-2bc734803888",
   "metadata": {},
   "outputs": [],
   "source": [
    "データ_tw_men['bot'] = 0\n",
    "データ_tw_men.loc[データ_tw_men['Outlet or Author'].isin(データ_bots['Outlet or Author'].tolist()), 'bot'] = 1"
   ]
  },
  {
   "cell_type": "code",
   "execution_count": 8,
   "id": "c16ae8a1-e689-40d0-b460-8c76f5127f61",
   "metadata": {},
   "outputs": [
    {
     "data": {
      "text/plain": [
       "bot\n",
       "0      0.95275\n",
       "1      0.04725\n",
       "dtype: float64"
      ]
     },
     "execution_count": 8,
     "metadata": {},
     "output_type": "execute_result"
    }
   ],
   "source": [
    "データ_tw_men[['bot']].value_counts()/データ_tw_men.shape[0]"
   ]
  },
  {
   "cell_type": "markdown",
   "id": "0eed39fe-5222-4ef5-bc4b-288c369f1187",
   "metadata": {},
   "source": [
    "<div class=\"alert-warning\">\n",
    "    <strong>Warning:</strong> This line of code is commented to avoid generating new versions of the file when reviewing the code.\n",
    "</div>"
   ]
  },
  {
   "cell_type": "code",
   "execution_count": 14,
   "id": "4f92c9ae-82f1-40ef-9f6a-3b9ba401f9db",
   "metadata": {},
   "outputs": [],
   "source": [
    "#データ_tw_men.to_csv('data/final_mentions_full_bots.tsv', index=False, sep='\\t', encoding='UTF-8')"
   ]
  },
  {
   "cell_type": "markdown",
   "id": "f0ddf46d-b948-4429-8bb8-a4e0069c22de",
   "metadata": {},
   "source": [
    "## 2. Bots by category"
   ]
  },
  {
   "cell_type": "markdown",
   "id": "38e2a859-d452-4bb6-93da-f52bc50fa663",
   "metadata": {},
   "source": [
    "As above but classifying mentions by Web of Science category."
   ]
  },
  {
   "cell_type": "code",
   "execution_count": 11,
   "id": "2dfc9a83-d192-4b02-ab83-b56343e6c546",
   "metadata": {},
   "outputs": [
    {
     "data": {
      "text/html": [
       "<div>\n",
       "<style scoped>\n",
       "    .dataframe tbody tr th:only-of-type {\n",
       "        vertical-align: middle;\n",
       "    }\n",
       "\n",
       "    .dataframe tbody tr th {\n",
       "        vertical-align: top;\n",
       "    }\n",
       "\n",
       "    .dataframe thead th {\n",
       "        text-align: right;\n",
       "    }\n",
       "</style>\n",
       "<table border=\"1\" class=\"dataframe\">\n",
       "  <thead>\n",
       "    <tr style=\"text-align: right;\">\n",
       "      <th></th>\n",
       "      <th>DOI</th>\n",
       "      <th>subject_category</th>\n",
       "      <th>ESI</th>\n",
       "    </tr>\n",
       "  </thead>\n",
       "  <tbody>\n",
       "    <tr>\n",
       "      <th>0</th>\n",
       "      <td>10.1001/jama.2016.19627</td>\n",
       "      <td>Medicine, General &amp; Internal</td>\n",
       "      <td>Clinical Medicine</td>\n",
       "    </tr>\n",
       "    <tr>\n",
       "      <th>1</th>\n",
       "      <td>10.1001/jama.2016.19720</td>\n",
       "      <td>Medicine, General &amp; Internal</td>\n",
       "      <td>Clinical Medicine</td>\n",
       "    </tr>\n",
       "    <tr>\n",
       "      <th>2</th>\n",
       "      <td>10.1001/jama.2016.19976</td>\n",
       "      <td>Medicine, General &amp; Internal</td>\n",
       "      <td>Clinical Medicine</td>\n",
       "    </tr>\n",
       "    <tr>\n",
       "      <th>3</th>\n",
       "      <td>10.1001/jama.2017.10569</td>\n",
       "      <td>Medicine, General &amp; Internal</td>\n",
       "      <td>Clinical Medicine</td>\n",
       "    </tr>\n",
       "    <tr>\n",
       "      <th>4</th>\n",
       "      <td>10.1001/jama.2017.1363</td>\n",
       "      <td>Medicine, General &amp; Internal</td>\n",
       "      <td>Clinical Medicine</td>\n",
       "    </tr>\n",
       "    <tr>\n",
       "      <th>...</th>\n",
       "      <td>...</td>\n",
       "      <td>...</td>\n",
       "      <td>...</td>\n",
       "    </tr>\n",
       "    <tr>\n",
       "      <th>6763065</th>\n",
       "      <td>10.1177/0021989417726107</td>\n",
       "      <td>Literature, African, Australian, Canadian</td>\n",
       "      <td>Arts &amp; Humanities</td>\n",
       "    </tr>\n",
       "    <tr>\n",
       "      <th>6763066</th>\n",
       "      <td>10.1177/0021989419854507</td>\n",
       "      <td>Literature, African, Australian, Canadian</td>\n",
       "      <td>Arts &amp; Humanities</td>\n",
       "    </tr>\n",
       "    <tr>\n",
       "      <th>6763067</th>\n",
       "      <td>10.1177/0021989420962785</td>\n",
       "      <td>Literature, African, Australian, Canadian</td>\n",
       "      <td>Arts &amp; Humanities</td>\n",
       "    </tr>\n",
       "    <tr>\n",
       "      <th>6763068</th>\n",
       "      <td>10.1353/cal.2017.0135</td>\n",
       "      <td>Literature, African, Australian, Canadian</td>\n",
       "      <td>Arts &amp; Humanities</td>\n",
       "    </tr>\n",
       "    <tr>\n",
       "      <th>6763069</th>\n",
       "      <td>10.2979/reseafrilite.49.4.08</td>\n",
       "      <td>Literature, African, Australian, Canadian</td>\n",
       "      <td>Arts &amp; Humanities</td>\n",
       "    </tr>\n",
       "  </tbody>\n",
       "</table>\n",
       "<p>6763070 rows × 3 columns</p>\n",
       "</div>"
      ],
      "text/plain": [
       "                                  DOI  \\\n",
       "0             10.1001/jama.2016.19627   \n",
       "1             10.1001/jama.2016.19720   \n",
       "2             10.1001/jama.2016.19976   \n",
       "3             10.1001/jama.2017.10569   \n",
       "4              10.1001/jama.2017.1363   \n",
       "...                               ...   \n",
       "6763065      10.1177/0021989417726107   \n",
       "6763066      10.1177/0021989419854507   \n",
       "6763067      10.1177/0021989420962785   \n",
       "6763068         10.1353/cal.2017.0135   \n",
       "6763069  10.2979/reseafrilite.49.4.08   \n",
       "\n",
       "                                  subject_category                ESI  \n",
       "0                     Medicine, General & Internal  Clinical Medicine  \n",
       "1                     Medicine, General & Internal  Clinical Medicine  \n",
       "2                     Medicine, General & Internal  Clinical Medicine  \n",
       "3                     Medicine, General & Internal  Clinical Medicine  \n",
       "4                     Medicine, General & Internal  Clinical Medicine  \n",
       "...                                            ...                ...  \n",
       "6763065  Literature, African, Australian, Canadian  Arts & Humanities  \n",
       "6763066  Literature, African, Australian, Canadian  Arts & Humanities  \n",
       "6763067  Literature, African, Australian, Canadian  Arts & Humanities  \n",
       "6763068  Literature, African, Australian, Canadian  Arts & Humanities  \n",
       "6763069  Literature, African, Australian, Canadian  Arts & Humanities  \n",
       "\n",
       "[6763070 rows x 3 columns]"
      ]
     },
     "execution_count": 11,
     "metadata": {},
     "output_type": "execute_result"
    }
   ],
   "source": [
    "データ_alt_sub = pd.read_csv('data/altmetric_subjects_cat_esi.tsv', sep='\\t', encoding='UTF-8')\n",
    "データ_alt_sub"
   ]
  },
  {
   "cell_type": "code",
   "execution_count": 12,
   "id": "e93c6b8e-2164-4e0b-bb40-3216898740c2",
   "metadata": {},
   "outputs": [],
   "source": [
    "データ_tw_men.DOI = データ_tw_men.DOI.str.lower()\n",
    "データ_alt_sub.DOI = データ_alt_sub.DOI.str.lower()"
   ]
  },
  {
   "cell_type": "code",
   "execution_count": 13,
   "id": "4d6899a8-a62b-46ce-b97b-7cbe514ab424",
   "metadata": {},
   "outputs": [
    {
     "data": {
      "text/plain": [
       "(6763070, 2)"
      ]
     },
     "execution_count": 13,
     "metadata": {},
     "output_type": "execute_result"
    }
   ],
   "source": [
    "データ_alt_sub_cat = データ_alt_sub[['DOI', 'subject_category']].drop_duplicates()\n",
    "データ_alt_sub_cat.shape"
   ]
  },
  {
   "cell_type": "markdown",
   "id": "112855c1-2b14-4788-a5af-73fb58c8cfc0",
   "metadata": {},
   "source": [
    "Due to the lack of categories in 64 publications, 524 mentions are lost."
   ]
  },
  {
   "cell_type": "code",
   "execution_count": 14,
   "id": "925d50e9-4437-4069-ae5c-364d2cb36c3e",
   "metadata": {},
   "outputs": [
    {
     "data": {
      "text/plain": [
       "(51230412, 6)"
      ]
     },
     "execution_count": 14,
     "metadata": {},
     "output_type": "execute_result"
    }
   ],
   "source": [
    "データ_tw_men[データ_tw_men.DOI.isin(データ_alt_sub.DOI.tolist())].shape"
   ]
  },
  {
   "cell_type": "code",
   "execution_count": 15,
   "id": "25c0933f-135a-48b1-b9e6-d55facf0dbfa",
   "metadata": {},
   "outputs": [
    {
     "data": {
      "text/plain": [
       "(77622030, 7)"
      ]
     },
     "execution_count": 15,
     "metadata": {},
     "output_type": "execute_result"
    }
   ],
   "source": [
    "データ_tw_men_cat = データ_tw_men.merge(データ_alt_sub_cat, how='inner', on='DOI')\n",
    "データ_tw_men_cat.shape"
   ]
  },
  {
   "cell_type": "markdown",
   "id": "c20a5307-2583-4860-8557-893a5ac84f7f",
   "metadata": {},
   "source": [
    "<div class=\"alert-warning\">\n",
    "    <strong>Warning:</strong> This line of code is commented to avoid generating new versions of the file when reviewing the code.\n",
    "</div>"
   ]
  },
  {
   "cell_type": "code",
   "execution_count": 24,
   "id": "fdc1989c-57c9-42cc-9d82-5a49d366c11d",
   "metadata": {},
   "outputs": [],
   "source": [
    "#データ_tw_men_cat.to_csv('data/final_mentions_full_bots_category.tsv', index=False, sep='\\t', encoding='UTF-8')"
   ]
  },
  {
   "cell_type": "markdown",
   "id": "308263a7-540c-406c-8a7f-9924934424ed",
   "metadata": {},
   "source": [
    "## 3. Bots by ESI field"
   ]
  },
  {
   "cell_type": "code",
   "execution_count": 16,
   "id": "f6d01ab0-d54c-4fd5-b8ab-140307fcffa6",
   "metadata": {},
   "outputs": [
    {
     "data": {
      "text/plain": [
       "(5639267, 2)"
      ]
     },
     "execution_count": 16,
     "metadata": {},
     "output_type": "execute_result"
    }
   ],
   "source": [
    "データ_alt_sub_esi = データ_alt_sub[['DOI', 'ESI']].drop_duplicates()\n",
    "データ_alt_sub_esi.shape"
   ]
  },
  {
   "cell_type": "code",
   "execution_count": 17,
   "id": "55013e2e-c17b-4902-b65f-56b4e792ca4e",
   "metadata": {},
   "outputs": [
    {
     "data": {
      "text/plain": [
       "(66269090, 7)"
      ]
     },
     "execution_count": 17,
     "metadata": {},
     "output_type": "execute_result"
    }
   ],
   "source": [
    "データ_tw_men_esi = データ_tw_men.merge(データ_alt_sub_esi, how='inner', on='DOI')\n",
    "データ_tw_men_esi.shape"
   ]
  },
  {
   "cell_type": "markdown",
   "id": "4b474e60-701b-454e-b3af-256b0bd17d81",
   "metadata": {},
   "source": [
    "<div class=\"alert-warning\">\n",
    "    <strong>Warning:</strong> This line of code is commented to avoid generating new versions of the file when reviewing the code.\n",
    "</div>"
   ]
  },
  {
   "cell_type": "code",
   "execution_count": 28,
   "id": "ebf4c9cd-7fa6-479d-a34c-cadc3ded40d3",
   "metadata": {},
   "outputs": [],
   "source": [
    "#データ_tw_men_esi.to_csv('data/final_mentions_full_bots_esi.tsv', index=False, sep='\\t', encoding='UTF-8')"
   ]
  }
 ],
 "metadata": {
  "kernelspec": {
   "display_name": "Python 3 (ipykernel)",
   "language": "python",
   "name": "python3"
  },
  "language_info": {
   "codemirror_mode": {
    "name": "ipython",
    "version": 3
   },
   "file_extension": ".py",
   "mimetype": "text/x-python",
   "name": "python",
   "nbconvert_exporter": "python",
   "pygments_lexer": "ipython3",
   "version": "3.11.5"
  }
 },
 "nbformat": 4,
 "nbformat_minor": 5
}
