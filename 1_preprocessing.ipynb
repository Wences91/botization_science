{
 "cells": [
  {
   "cell_type": "markdown",
   "id": "9dcdd379-668e-46e8-a1bd-379d256aaedd",
   "metadata": {},
   "source": [
    "# Bots in Science 🧪"
   ]
  },
  {
   "cell_type": "markdown",
   "id": "8cd8fbc7-3668-436c-9f9b-79ac6285f2cb",
   "metadata": {},
   "source": [
    "In this notebook, we process data from mentions to:\n",
    "+ (1) classify altmetric papers by ESI field 📚\n",
    "+ (2) analyze the botscores of the tweeters to identify bots 🤖 in combination with their activity 🕵️‍♂️"
   ]
  },
  {
   "cell_type": "markdown",
   "id": "5eba5a3e-3140-4fad-a4d7-21c89e398e7a",
   "metadata": {},
   "source": [
    "## Libraries"
   ]
  },
  {
   "cell_type": "code",
   "execution_count": 3,
   "id": "5739726a-303a-4a69-a0f7-3f4ee25b22cf",
   "metadata": {},
   "outputs": [],
   "source": [
    "import pandas as pd\n",
    "import numpy as np\n",
    "from functions import outliers"
   ]
  },
  {
   "cell_type": "markdown",
   "id": "e930d163-6398-4359-81cf-08f26c34a729",
   "metadata": {},
   "source": [
    "## 1. Altmetric papers by ESI field"
   ]
  },
  {
   "cell_type": "markdown",
   "id": "2578ddec-42cf-49c2-8e36-e4bb32dbc32d",
   "metadata": {},
   "source": [
    "The Web of Science papers (2017-2021) indexed in altmetric are assigned one or more Web of Science categories. Based on the schema by Arroyo-Machado & Torres-Salinas (2021), their ESI field is obtained."
   ]
  },
  {
   "cell_type": "code",
   "execution_count": 4,
   "id": "64f2b50b-1260-4e07-8c0d-186d03ed67b5",
   "metadata": {},
   "outputs": [
    {
     "data": {
      "text/plain": [
       "(6763070, 2)"
      ]
     },
     "execution_count": 4,
     "metadata": {},
     "output_type": "execute_result"
    }
   ],
   "source": [
    "データ_alt_sub = pd.read_csv('data/altmetric_subjects_cat.tsv', sep='\\t')\n",
    "データ_alt_sub.DOI = データ_alt_sub.DOI.str.lower()\n",
    "データ_alt_sub.shape"
   ]
  },
  {
   "cell_type": "code",
   "execution_count": 5,
   "id": "58706394-fbce-48f1-ac12-9a51be562dd0",
   "metadata": {},
   "outputs": [
    {
     "data": {
      "text/html": [
       "<div>\n",
       "<style scoped>\n",
       "    .dataframe tbody tr th:only-of-type {\n",
       "        vertical-align: middle;\n",
       "    }\n",
       "\n",
       "    .dataframe tbody tr th {\n",
       "        vertical-align: top;\n",
       "    }\n",
       "\n",
       "    .dataframe thead th {\n",
       "        text-align: right;\n",
       "    }\n",
       "</style>\n",
       "<table border=\"1\" class=\"dataframe\">\n",
       "  <thead>\n",
       "    <tr style=\"text-align: right;\">\n",
       "      <th></th>\n",
       "      <th>WC</th>\n",
       "      <th>SC</th>\n",
       "      <th>ESI</th>\n",
       "      <th>Category</th>\n",
       "    </tr>\n",
       "  </thead>\n",
       "  <tbody>\n",
       "    <tr>\n",
       "      <th>0</th>\n",
       "      <td>Agricultural Economics &amp; Policy</td>\n",
       "      <td>Agriculture</td>\n",
       "      <td>Agricultural Sciences</td>\n",
       "      <td>Life Sciences &amp; Biomedicine</td>\n",
       "    </tr>\n",
       "    <tr>\n",
       "      <th>1</th>\n",
       "      <td>Agricultural Engineering</td>\n",
       "      <td>Agriculture</td>\n",
       "      <td>Agricultural Sciences</td>\n",
       "      <td>Life Sciences &amp; Biomedicine</td>\n",
       "    </tr>\n",
       "    <tr>\n",
       "      <th>2</th>\n",
       "      <td>Agriculture, Dairy &amp; Animal Science</td>\n",
       "      <td>Agriculture</td>\n",
       "      <td>Agricultural Sciences</td>\n",
       "      <td>Life Sciences &amp; Biomedicine</td>\n",
       "    </tr>\n",
       "    <tr>\n",
       "      <th>3</th>\n",
       "      <td>Agriculture, Multidisciplinary</td>\n",
       "      <td>Agriculture</td>\n",
       "      <td>Agricultural Sciences</td>\n",
       "      <td>Life Sciences &amp; Biomedicine</td>\n",
       "    </tr>\n",
       "    <tr>\n",
       "      <th>4</th>\n",
       "      <td>Agronomy</td>\n",
       "      <td>Agriculture</td>\n",
       "      <td>Agricultural Sciences</td>\n",
       "      <td>Life Sciences &amp; Biomedicine</td>\n",
       "    </tr>\n",
       "    <tr>\n",
       "      <th>...</th>\n",
       "      <td>...</td>\n",
       "      <td>...</td>\n",
       "      <td>...</td>\n",
       "      <td>...</td>\n",
       "    </tr>\n",
       "    <tr>\n",
       "      <th>249</th>\n",
       "      <td>Urban Studies</td>\n",
       "      <td>Urban Studies</td>\n",
       "      <td>Social Sciences, General</td>\n",
       "      <td>Social Sciences</td>\n",
       "    </tr>\n",
       "    <tr>\n",
       "      <th>250</th>\n",
       "      <td>Women's Studies</td>\n",
       "      <td>Women's Studies</td>\n",
       "      <td>Social Sciences, General</td>\n",
       "      <td>Social Sciences</td>\n",
       "    </tr>\n",
       "    <tr>\n",
       "      <th>251</th>\n",
       "      <td>Astronomy &amp; Astrophysics</td>\n",
       "      <td>Astronomy &amp; Astrophysics</td>\n",
       "      <td>Space Sciences</td>\n",
       "      <td>Physical Sciences</td>\n",
       "    </tr>\n",
       "    <tr>\n",
       "      <th>252</th>\n",
       "      <td>Tropical Medicine</td>\n",
       "      <td>Tropical Medicine</td>\n",
       "      <td>Clinical Medicine</td>\n",
       "      <td>Life Sciences &amp; Biomedicine</td>\n",
       "    </tr>\n",
       "    <tr>\n",
       "      <th>253</th>\n",
       "      <td>Water Resources</td>\n",
       "      <td>Water Resources</td>\n",
       "      <td>Geosciences</td>\n",
       "      <td>Physical Sciences</td>\n",
       "    </tr>\n",
       "  </tbody>\n",
       "</table>\n",
       "<p>254 rows × 4 columns</p>\n",
       "</div>"
      ],
      "text/plain": [
       "                                      WC                        SC  \\\n",
       "0        Agricultural Economics & Policy               Agriculture   \n",
       "1               Agricultural Engineering               Agriculture   \n",
       "2    Agriculture, Dairy & Animal Science               Agriculture   \n",
       "3         Agriculture, Multidisciplinary               Agriculture   \n",
       "4                               Agronomy               Agriculture   \n",
       "..                                   ...                       ...   \n",
       "249                        Urban Studies             Urban Studies   \n",
       "250                      Women's Studies           Women's Studies   \n",
       "251             Astronomy & Astrophysics  Astronomy & Astrophysics   \n",
       "252                    Tropical Medicine         Tropical Medicine   \n",
       "253                      Water Resources           Water Resources   \n",
       "\n",
       "                          ESI                     Category  \n",
       "0       Agricultural Sciences  Life Sciences & Biomedicine  \n",
       "1       Agricultural Sciences  Life Sciences & Biomedicine  \n",
       "2       Agricultural Sciences  Life Sciences & Biomedicine  \n",
       "3       Agricultural Sciences  Life Sciences & Biomedicine  \n",
       "4       Agricultural Sciences  Life Sciences & Biomedicine  \n",
       "..                        ...                          ...  \n",
       "249  Social Sciences, General              Social Sciences  \n",
       "250  Social Sciences, General              Social Sciences  \n",
       "251            Space Sciences            Physical Sciences  \n",
       "252         Clinical Medicine  Life Sciences & Biomedicine  \n",
       "253               Geosciences            Physical Sciences  \n",
       "\n",
       "[254 rows x 4 columns]"
      ]
     },
     "execution_count": 5,
     "metadata": {},
     "output_type": "execute_result"
    }
   ],
   "source": [
    "データ_esi = pd.read_csv('data/mapping.csv', sep=';')\n",
    "データ_esi"
   ]
  },
  {
   "cell_type": "code",
   "execution_count": 6,
   "id": "a66a28d7-b71f-42a6-9f86-366c467dfd9d",
   "metadata": {},
   "outputs": [],
   "source": [
    "データ_alt_sub = データ_alt_sub.merge(データ_esi[['WC', 'ESI']], how='inner', left_on='subject_category', right_on='WC')\n",
    "データ_alt_sub.drop('WC', axis=1, inplace=True)"
   ]
  },
  {
   "cell_type": "markdown",
   "id": "26f37ffb-f432-49c9-bca7-8f2cbe2bc0b2",
   "metadata": {},
   "source": [
    "<div class=\"alert-warning\">\n",
    "    <strong>Warning:</strong> This line of code is commented to avoid generating new versions of the file when reviewing the code.\n",
    "</div>"
   ]
  },
  {
   "cell_type": "code",
   "execution_count": 7,
   "id": "c298494c-fb49-495f-846e-180837136805",
   "metadata": {},
   "outputs": [],
   "source": [
    "#データ_alt_sub.to_csv('data/altmetric_subjects_cat_esi.tsv', index=False, sep='\\t', encoding='UTF-8')"
   ]
  },
  {
   "cell_type": "markdown",
   "id": "7d0d6e48-967a-4431-ab78-b5daedb4fb7b",
   "metadata": {},
   "source": [
    "## 2. Bot detection"
   ]
  },
  {
   "cell_type": "markdown",
   "id": "da7001ca-ed3e-45fc-9abc-5567a5b86083",
   "metadata": {},
   "source": [
    "Based on the botscore and the frequency of mentions of the tweeters, bots are identified."
   ]
  },
  {
   "cell_type": "code",
   "execution_count": 8,
   "id": "42b3d0be-221c-42e7-9bfe-9d351464b6cf",
   "metadata": {},
   "outputs": [
    {
     "data": {
      "text/plain": [
       "(4872369, 2)"
      ]
     },
     "execution_count": 8,
     "metadata": {},
     "output_type": "execute_result"
    }
   ],
   "source": [
    "データ_botscore = pd.read_csv('data/full_botometer_results.tsv', sep='\\t', dtype={'user_id':str})\n",
    "データ_botscore.shape"
   ]
  },
  {
   "cell_type": "code",
   "execution_count": 9,
   "id": "751c4db1-201d-4d25-8533-9ce887a3f359",
   "metadata": {},
   "outputs": [
    {
     "data": {
      "text/plain": [
       "(51999245, 5)"
      ]
     },
     "execution_count": 9,
     "metadata": {},
     "output_type": "execute_result"
    }
   ],
   "source": [
    "データ_tw_men = pd.read_csv('data/final_mentions_full.tsv', sep='\\t',\n",
    "                         dtype={'Outlet or Author':str, 'External Mention ID':str},\n",
    "                         encoding='UTF-8')\n",
    "データ_tw_men.shape"
   ]
  },
  {
   "cell_type": "markdown",
   "id": "1c876f36-c6c8-4baa-bcb3-4558802cb905",
   "metadata": {},
   "source": [
    "Out of the 4,983,251 tweeters, it has been possible to obtain the botscore of 4,872,369 tweeters (98%)."
   ]
  },
  {
   "cell_type": "code",
   "execution_count": 10,
   "id": "b7be6900-801d-428a-a0b2-50cfcc0aaba8",
   "metadata": {},
   "outputs": [
    {
     "data": {
      "text/plain": [
       "(4983251, 1)"
      ]
     },
     "execution_count": 10,
     "metadata": {},
     "output_type": "execute_result"
    }
   ],
   "source": [
    "データ_tw_men[['Outlet or Author']].drop_duplicates().shape"
   ]
  },
  {
   "cell_type": "code",
   "execution_count": 11,
   "id": "7df0c191-7aa7-4d6d-a8ec-8c5c8a6f177c",
   "metadata": {},
   "outputs": [
    {
     "data": {
      "text/plain": [
       "(4872369, 1)"
      ]
     },
     "execution_count": 11,
     "metadata": {},
     "output_type": "execute_result"
    }
   ],
   "source": [
    "データ_tw_men[データ_tw_men['Outlet or Author'].isin(データ_botscore.user_id.tolist())][['Outlet or Author']].drop_duplicates().shape"
   ]
  },
  {
   "cell_type": "markdown",
   "id": "4b2a0406-c275-42ec-83ff-09013b9ad83e",
   "metadata": {},
   "source": [
    "62 publications don't include Web of Science category. Possibly they were not correctly indexed when the data was retrieved."
   ]
  },
  {
   "cell_type": "code",
   "execution_count": 12,
   "id": "ca86507c-08f0-4725-9531-f0019daf36af",
   "metadata": {},
   "outputs": [
    {
     "data": {
      "text/plain": [
       "62"
      ]
     },
     "execution_count": 12,
     "metadata": {},
     "output_type": "execute_result"
    }
   ],
   "source": [
    "len(データ_tw_men.loc[~データ_tw_men.DOI.isin(データ_alt_sub.DOI.tolist()), 'DOI'].drop_duplicates())"
   ]
  },
  {
   "cell_type": "markdown",
   "id": "0b98305f-8798-487f-a546-026241052628",
   "metadata": {},
   "source": [
    "### 2.1. Outliers detection"
   ]
  },
  {
   "cell_type": "markdown",
   "id": "d1f1d324-814a-4dbf-a5fd-3aebd9d3941a",
   "metadata": {},
   "source": [
    "In order to identify the bots, user mentions are taken into account. Therefore, the outliers of this distribution (IQR*1.5 & IQR*3) are calculated."
   ]
  },
  {
   "cell_type": "markdown",
   "id": "838fd529-ffb4-4bdf-abfa-94e72f3ec61c",
   "metadata": {},
   "source": [
    "### 2.1.1. Mentions"
   ]
  },
  {
   "cell_type": "code",
   "execution_count": 13,
   "id": "02c91ec5-a028-4b1e-aa0d-5adb7a0bca0a",
   "metadata": {},
   "outputs": [
    {
     "data": {
      "text/html": [
       "<div>\n",
       "<style scoped>\n",
       "    .dataframe tbody tr th:only-of-type {\n",
       "        vertical-align: middle;\n",
       "    }\n",
       "\n",
       "    .dataframe tbody tr th {\n",
       "        vertical-align: top;\n",
       "    }\n",
       "\n",
       "    .dataframe thead th {\n",
       "        text-align: right;\n",
       "    }\n",
       "</style>\n",
       "<table border=\"1\" class=\"dataframe\">\n",
       "  <thead>\n",
       "    <tr style=\"text-align: right;\">\n",
       "      <th></th>\n",
       "      <th>Outlet or Author</th>\n",
       "      <th>mentions</th>\n",
       "    </tr>\n",
       "  </thead>\n",
       "  <tbody>\n",
       "    <tr>\n",
       "      <th>0</th>\n",
       "      <td>46854930</td>\n",
       "      <td>160761</td>\n",
       "    </tr>\n",
       "    <tr>\n",
       "      <th>1</th>\n",
       "      <td>253847599</td>\n",
       "      <td>64403</td>\n",
       "    </tr>\n",
       "    <tr>\n",
       "      <th>2</th>\n",
       "      <td>1191732113676161028</td>\n",
       "      <td>52549</td>\n",
       "    </tr>\n",
       "    <tr>\n",
       "      <th>3</th>\n",
       "      <td>3178688418</td>\n",
       "      <td>51251</td>\n",
       "    </tr>\n",
       "    <tr>\n",
       "      <th>4</th>\n",
       "      <td>2797948887</td>\n",
       "      <td>43538</td>\n",
       "    </tr>\n",
       "    <tr>\n",
       "      <th>...</th>\n",
       "      <td>...</td>\n",
       "      <td>...</td>\n",
       "    </tr>\n",
       "    <tr>\n",
       "      <th>4983245</th>\n",
       "      <td>1241283714602151943</td>\n",
       "      <td>1</td>\n",
       "    </tr>\n",
       "    <tr>\n",
       "      <th>4983246</th>\n",
       "      <td>1241283639863726081</td>\n",
       "      <td>1</td>\n",
       "    </tr>\n",
       "    <tr>\n",
       "      <th>4983247</th>\n",
       "      <td>1241283284568399872</td>\n",
       "      <td>1</td>\n",
       "    </tr>\n",
       "    <tr>\n",
       "      <th>4983248</th>\n",
       "      <td>124128298</td>\n",
       "      <td>1</td>\n",
       "    </tr>\n",
       "    <tr>\n",
       "      <th>4983249</th>\n",
       "      <td>999999891287040000</td>\n",
       "      <td>1</td>\n",
       "    </tr>\n",
       "  </tbody>\n",
       "</table>\n",
       "<p>4983250 rows × 2 columns</p>\n",
       "</div>"
      ],
      "text/plain": [
       "            Outlet or Author  mentions\n",
       "0                   46854930    160761\n",
       "1                  253847599     64403\n",
       "2        1191732113676161028     52549\n",
       "3                 3178688418     51251\n",
       "4                 2797948887     43538\n",
       "...                      ...       ...\n",
       "4983245  1241283714602151943         1\n",
       "4983246  1241283639863726081         1\n",
       "4983247  1241283284568399872         1\n",
       "4983248            124128298         1\n",
       "4983249   999999891287040000         1\n",
       "\n",
       "[4983250 rows x 2 columns]"
      ]
     },
     "execution_count": 13,
     "metadata": {},
     "output_type": "execute_result"
    }
   ],
   "source": [
    "データ_tw_men_freq = データ_tw_men[['Outlet or Author']].value_counts().reset_index(name='mentions')\n",
    "データ_tw_men_freq"
   ]
  },
  {
   "cell_type": "markdown",
   "id": "aab7b614-5472-4ee6-a546-a416c8d4e6c1",
   "metadata": {},
   "source": [
    "Outliers realize more than 8.5 mentions and extreme outliers more than 13."
   ]
  },
  {
   "cell_type": "code",
   "execution_count": 14,
   "id": "760b405f-0efa-4fd1-a477-b857ae535ce2",
   "metadata": {},
   "outputs": [
    {
     "data": {
      "text/plain": [
       "8.5"
      ]
     },
     "execution_count": 14,
     "metadata": {},
     "output_type": "execute_result"
    }
   ],
   "source": [
    "outliers(データ_tw_men_freq.mentions)"
   ]
  },
  {
   "cell_type": "code",
   "execution_count": 15,
   "id": "87cdd6e5-cdb1-47a5-a08d-11a24d4ce7c2",
   "metadata": {},
   "outputs": [
    {
     "data": {
      "text/plain": [
       "13.0"
      ]
     },
     "execution_count": 15,
     "metadata": {},
     "output_type": "execute_result"
    }
   ],
   "source": [
    "outliers(データ_tw_men_freq.mentions, extreme=1)"
   ]
  },
  {
   "cell_type": "markdown",
   "id": "b9c9ea75-54c1-424a-a663-fe8071d2fd62",
   "metadata": {},
   "source": [
    "### 2.1.2. Tweets"
   ]
  },
  {
   "cell_type": "code",
   "execution_count": 18,
   "id": "6f0af984-bec0-4b16-a1e9-f67e11c27c00",
   "metadata": {},
   "outputs": [
    {
     "data": {
      "text/html": [
       "<div>\n",
       "<style scoped>\n",
       "    .dataframe tbody tr th:only-of-type {\n",
       "        vertical-align: middle;\n",
       "    }\n",
       "\n",
       "    .dataframe tbody tr th {\n",
       "        vertical-align: top;\n",
       "    }\n",
       "\n",
       "    .dataframe thead th {\n",
       "        text-align: right;\n",
       "    }\n",
       "</style>\n",
       "<table border=\"1\" class=\"dataframe\">\n",
       "  <thead>\n",
       "    <tr style=\"text-align: right;\">\n",
       "      <th></th>\n",
       "      <th>Outlet or Author</th>\n",
       "      <th>tweets</th>\n",
       "    </tr>\n",
       "  </thead>\n",
       "  <tbody>\n",
       "    <tr>\n",
       "      <th>0</th>\n",
       "      <td>1000000214193893378</td>\n",
       "      <td>4</td>\n",
       "    </tr>\n",
       "    <tr>\n",
       "      <th>1</th>\n",
       "      <td>1000000362735120384</td>\n",
       "      <td>3</td>\n",
       "    </tr>\n",
       "    <tr>\n",
       "      <th>2</th>\n",
       "      <td>1000000548450525190</td>\n",
       "      <td>1</td>\n",
       "    </tr>\n",
       "    <tr>\n",
       "      <th>3</th>\n",
       "      <td>100000075</td>\n",
       "      <td>0</td>\n",
       "    </tr>\n",
       "    <tr>\n",
       "      <th>4</th>\n",
       "      <td>1000001158130388992</td>\n",
       "      <td>1</td>\n",
       "    </tr>\n",
       "    <tr>\n",
       "      <th>...</th>\n",
       "      <td>...</td>\n",
       "      <td>...</td>\n",
       "    </tr>\n",
       "    <tr>\n",
       "      <th>4983245</th>\n",
       "      <td>99999896</td>\n",
       "      <td>0</td>\n",
       "    </tr>\n",
       "    <tr>\n",
       "      <th>4983246</th>\n",
       "      <td>999999486</td>\n",
       "      <td>0</td>\n",
       "    </tr>\n",
       "    <tr>\n",
       "      <th>4983247</th>\n",
       "      <td>999999663150387200</td>\n",
       "      <td>0</td>\n",
       "    </tr>\n",
       "    <tr>\n",
       "      <th>4983248</th>\n",
       "      <td>999999699838005251</td>\n",
       "      <td>0</td>\n",
       "    </tr>\n",
       "    <tr>\n",
       "      <th>4983249</th>\n",
       "      <td>999999891287040000</td>\n",
       "      <td>0</td>\n",
       "    </tr>\n",
       "  </tbody>\n",
       "</table>\n",
       "<p>4983250 rows × 2 columns</p>\n",
       "</div>"
      ],
      "text/plain": [
       "            Outlet or Author  tweets\n",
       "0        1000000214193893378       4\n",
       "1        1000000362735120384       3\n",
       "2        1000000548450525190       1\n",
       "3                  100000075       0\n",
       "4        1000001158130388992       1\n",
       "...                      ...     ...\n",
       "4983245             99999896       0\n",
       "4983246            999999486       0\n",
       "4983247   999999663150387200       0\n",
       "4983248   999999699838005251       0\n",
       "4983249   999999891287040000       0\n",
       "\n",
       "[4983250 rows x 2 columns]"
      ]
     },
     "execution_count": 18,
     "metadata": {},
     "output_type": "execute_result"
    }
   ],
   "source": [
    "データ_tw_men_freq = データ_tw_men.groupby('Outlet or Author').sum('Original').reset_index()\n",
    "データ_tw_men_freq.rename({'Original':'tweets'}, axis=1, inplace=True)\n",
    "データ_tw_men_freq"
   ]
  },
  {
   "cell_type": "markdown",
   "id": "e01275e0-cee9-4112-8fdf-603d9a79a1f2",
   "metadata": {},
   "source": [
    "Outliers realize more than 2.5 tweets and extreme outliers more than 4."
   ]
  },
  {
   "cell_type": "code",
   "execution_count": 20,
   "id": "153340f1-1d67-43c1-b83e-ba60fec8278d",
   "metadata": {},
   "outputs": [
    {
     "data": {
      "text/plain": [
       "2.5"
      ]
     },
     "execution_count": 20,
     "metadata": {},
     "output_type": "execute_result"
    }
   ],
   "source": [
    "outliers(データ_tw_men_freq.tweets)"
   ]
  },
  {
   "cell_type": "code",
   "execution_count": 22,
   "id": "b09adca1-45a7-42fe-bbf7-b4ad53a6ad5e",
   "metadata": {},
   "outputs": [
    {
     "data": {
      "text/plain": [
       "4.0"
      ]
     },
     "execution_count": 22,
     "metadata": {},
     "output_type": "execute_result"
    }
   ],
   "source": [
    "outliers(データ_tw_men_freq.tweets, extreme=1)"
   ]
  },
  {
   "cell_type": "markdown",
   "id": "faefd6d1-4337-4f77-b4f3-94bbe7b318c5",
   "metadata": {},
   "source": [
    "### 2.1.3. Retweets"
   ]
  },
  {
   "cell_type": "code",
   "execution_count": 23,
   "id": "57db5cba-c2db-4788-91a5-2ef6a96fe2e7",
   "metadata": {},
   "outputs": [
    {
     "data": {
      "text/html": [
       "<div>\n",
       "<style scoped>\n",
       "    .dataframe tbody tr th:only-of-type {\n",
       "        vertical-align: middle;\n",
       "    }\n",
       "\n",
       "    .dataframe tbody tr th {\n",
       "        vertical-align: top;\n",
       "    }\n",
       "\n",
       "    .dataframe thead th {\n",
       "        text-align: right;\n",
       "    }\n",
       "</style>\n",
       "<table border=\"1\" class=\"dataframe\">\n",
       "  <thead>\n",
       "    <tr style=\"text-align: right;\">\n",
       "      <th></th>\n",
       "      <th>Outlet or Author</th>\n",
       "      <th>retweets</th>\n",
       "    </tr>\n",
       "  </thead>\n",
       "  <tbody>\n",
       "    <tr>\n",
       "      <th>0</th>\n",
       "      <td>1000000214193893378</td>\n",
       "      <td>0</td>\n",
       "    </tr>\n",
       "    <tr>\n",
       "      <th>1</th>\n",
       "      <td>1000000362735120384</td>\n",
       "      <td>5</td>\n",
       "    </tr>\n",
       "    <tr>\n",
       "      <th>2</th>\n",
       "      <td>1000000548450525190</td>\n",
       "      <td>0</td>\n",
       "    </tr>\n",
       "    <tr>\n",
       "      <th>3</th>\n",
       "      <td>100000075</td>\n",
       "      <td>1</td>\n",
       "    </tr>\n",
       "    <tr>\n",
       "      <th>4</th>\n",
       "      <td>1000001158130388992</td>\n",
       "      <td>0</td>\n",
       "    </tr>\n",
       "    <tr>\n",
       "      <th>...</th>\n",
       "      <td>...</td>\n",
       "      <td>...</td>\n",
       "    </tr>\n",
       "    <tr>\n",
       "      <th>4983245</th>\n",
       "      <td>99999896</td>\n",
       "      <td>1</td>\n",
       "    </tr>\n",
       "    <tr>\n",
       "      <th>4983246</th>\n",
       "      <td>999999486</td>\n",
       "      <td>1</td>\n",
       "    </tr>\n",
       "    <tr>\n",
       "      <th>4983247</th>\n",
       "      <td>999999663150387200</td>\n",
       "      <td>1</td>\n",
       "    </tr>\n",
       "    <tr>\n",
       "      <th>4983248</th>\n",
       "      <td>999999699838005251</td>\n",
       "      <td>2</td>\n",
       "    </tr>\n",
       "    <tr>\n",
       "      <th>4983249</th>\n",
       "      <td>999999891287040000</td>\n",
       "      <td>1</td>\n",
       "    </tr>\n",
       "  </tbody>\n",
       "</table>\n",
       "<p>4983250 rows × 2 columns</p>\n",
       "</div>"
      ],
      "text/plain": [
       "            Outlet or Author  retweets\n",
       "0        1000000214193893378         0\n",
       "1        1000000362735120384         5\n",
       "2        1000000548450525190         0\n",
       "3                  100000075         1\n",
       "4        1000001158130388992         0\n",
       "...                      ...       ...\n",
       "4983245             99999896         1\n",
       "4983246            999999486         1\n",
       "4983247   999999663150387200         1\n",
       "4983248   999999699838005251         2\n",
       "4983249   999999891287040000         1\n",
       "\n",
       "[4983250 rows x 2 columns]"
      ]
     },
     "execution_count": 23,
     "metadata": {},
     "output_type": "execute_result"
    }
   ],
   "source": [
    "データ_tw_men_freq = データ_tw_men\n",
    "データ_tw_men_freq.Original = -1*(データ_tw_men_freq.Original-1)\n",
    "データ_tw_men_freq = データ_tw_men_freq.groupby('Outlet or Author').sum('Original').reset_index()\n",
    "データ_tw_men_freq.rename({'Original':'retweets'}, axis=1, inplace=True)\n",
    "データ_tw_men_freq"
   ]
  },
  {
   "cell_type": "markdown",
   "id": "454f715c-c430-4042-a7a4-33af9e71ac94",
   "metadata": {},
   "source": [
    "Outliers realize more than 6 retweets and extreme outliers more than 9."
   ]
  },
  {
   "cell_type": "code",
   "execution_count": 24,
   "id": "07fbcb02-d36d-4f6b-821c-73577ff4df41",
   "metadata": {},
   "outputs": [
    {
     "data": {
      "text/plain": [
       "6.0"
      ]
     },
     "execution_count": 24,
     "metadata": {},
     "output_type": "execute_result"
    }
   ],
   "source": [
    "outliers(データ_tw_men_freq.retweets)"
   ]
  },
  {
   "cell_type": "code",
   "execution_count": 25,
   "id": "c434bde2-dc07-4f1e-beac-138139d44999",
   "metadata": {},
   "outputs": [
    {
     "data": {
      "text/plain": [
       "9.0"
      ]
     },
     "execution_count": 25,
     "metadata": {},
     "output_type": "execute_result"
    }
   ],
   "source": [
    "outliers(データ_tw_men_freq.retweets, extreme=1)"
   ]
  },
  {
   "cell_type": "markdown",
   "id": "5429e281-39b3-462e-9fce-e0a41cdda593",
   "metadata": {},
   "source": [
    "### 2.2. Bots detection"
   ]
  },
  {
   "cell_type": "markdown",
   "id": "c0660b05-73f9-4a3b-92b6-ee3ba94a5177",
   "metadata": {},
   "source": [
    "After some tests that are available on the robustenss check, it has been decided to set as thresholds a botscores of 0.6 and a minimum of 8 mentions."
   ]
  },
  {
   "cell_type": "code",
   "execution_count": 26,
   "id": "2c984600-62fa-483c-a235-c9b94906aa01",
   "metadata": {},
   "outputs": [
    {
     "data": {
      "text/html": [
       "<div>\n",
       "<style scoped>\n",
       "    .dataframe tbody tr th:only-of-type {\n",
       "        vertical-align: middle;\n",
       "    }\n",
       "\n",
       "    .dataframe tbody tr th {\n",
       "        vertical-align: top;\n",
       "    }\n",
       "\n",
       "    .dataframe thead th {\n",
       "        text-align: right;\n",
       "    }\n",
       "</style>\n",
       "<table border=\"1\" class=\"dataframe\">\n",
       "  <thead>\n",
       "    <tr style=\"text-align: right;\">\n",
       "      <th></th>\n",
       "      <th>Outlet or Author</th>\n",
       "      <th>mentions</th>\n",
       "    </tr>\n",
       "  </thead>\n",
       "  <tbody>\n",
       "    <tr>\n",
       "      <th>0</th>\n",
       "      <td>46854930</td>\n",
       "      <td>160761</td>\n",
       "    </tr>\n",
       "    <tr>\n",
       "      <th>1</th>\n",
       "      <td>253847599</td>\n",
       "      <td>64403</td>\n",
       "    </tr>\n",
       "    <tr>\n",
       "      <th>2</th>\n",
       "      <td>1191732113676161028</td>\n",
       "      <td>52549</td>\n",
       "    </tr>\n",
       "    <tr>\n",
       "      <th>3</th>\n",
       "      <td>3178688418</td>\n",
       "      <td>51251</td>\n",
       "    </tr>\n",
       "    <tr>\n",
       "      <th>4</th>\n",
       "      <td>2797948887</td>\n",
       "      <td>43538</td>\n",
       "    </tr>\n",
       "    <tr>\n",
       "      <th>...</th>\n",
       "      <td>...</td>\n",
       "      <td>...</td>\n",
       "    </tr>\n",
       "    <tr>\n",
       "      <th>729487</th>\n",
       "      <td>1375577394157879301</td>\n",
       "      <td>9</td>\n",
       "    </tr>\n",
       "    <tr>\n",
       "      <th>729488</th>\n",
       "      <td>1186803282154405888</td>\n",
       "      <td>9</td>\n",
       "    </tr>\n",
       "    <tr>\n",
       "      <th>729489</th>\n",
       "      <td>1061934299832897537</td>\n",
       "      <td>9</td>\n",
       "    </tr>\n",
       "    <tr>\n",
       "      <th>729490</th>\n",
       "      <td>84113375</td>\n",
       "      <td>9</td>\n",
       "    </tr>\n",
       "    <tr>\n",
       "      <th>729491</th>\n",
       "      <td>1489431368430153729</td>\n",
       "      <td>9</td>\n",
       "    </tr>\n",
       "  </tbody>\n",
       "</table>\n",
       "<p>729492 rows × 2 columns</p>\n",
       "</div>"
      ],
      "text/plain": [
       "           Outlet or Author  mentions\n",
       "0                  46854930    160761\n",
       "1                 253847599     64403\n",
       "2       1191732113676161028     52549\n",
       "3                3178688418     51251\n",
       "4                2797948887     43538\n",
       "...                     ...       ...\n",
       "729487  1375577394157879301         9\n",
       "729488  1186803282154405888         9\n",
       "729489  1061934299832897537         9\n",
       "729490             84113375         9\n",
       "729491  1489431368430153729         9\n",
       "\n",
       "[729492 rows x 2 columns]"
      ]
     },
     "execution_count": 26,
     "metadata": {},
     "output_type": "execute_result"
    }
   ],
   "source": [
    "データ_tw_men_freq = データ_tw_men[['Outlet or Author']].value_counts().reset_index(name='mentions')\n",
    "データ_tw_men_freq = データ_tw_men_freq[データ_tw_men_freq.mentions>8]\n",
    "データ_tw_men_freq"
   ]
  },
  {
   "cell_type": "code",
   "execution_count": 27,
   "id": "7e39f46a-dabc-4480-993c-1edfab604b78",
   "metadata": {},
   "outputs": [
    {
     "data": {
      "text/html": [
       "<div>\n",
       "<style scoped>\n",
       "    .dataframe tbody tr th:only-of-type {\n",
       "        vertical-align: middle;\n",
       "    }\n",
       "\n",
       "    .dataframe tbody tr th {\n",
       "        vertical-align: top;\n",
       "    }\n",
       "\n",
       "    .dataframe thead th {\n",
       "        text-align: right;\n",
       "    }\n",
       "</style>\n",
       "<table border=\"1\" class=\"dataframe\">\n",
       "  <thead>\n",
       "    <tr style=\"text-align: right;\">\n",
       "      <th></th>\n",
       "      <th>Outlet or Author</th>\n",
       "    </tr>\n",
       "  </thead>\n",
       "  <tbody>\n",
       "    <tr>\n",
       "      <th>4</th>\n",
       "      <td>2797948887</td>\n",
       "    </tr>\n",
       "    <tr>\n",
       "      <th>8</th>\n",
       "      <td>2527490466</td>\n",
       "    </tr>\n",
       "    <tr>\n",
       "      <th>9</th>\n",
       "      <td>1331133278</td>\n",
       "    </tr>\n",
       "    <tr>\n",
       "      <th>10</th>\n",
       "      <td>207581304</td>\n",
       "    </tr>\n",
       "    <tr>\n",
       "      <th>11</th>\n",
       "      <td>1477921047034929156</td>\n",
       "    </tr>\n",
       "    <tr>\n",
       "      <th>...</th>\n",
       "      <td>...</td>\n",
       "    </tr>\n",
       "    <tr>\n",
       "      <th>716233</th>\n",
       "      <td>851717988780621825</td>\n",
       "    </tr>\n",
       "    <tr>\n",
       "      <th>716286</th>\n",
       "      <td>1391120434683432960</td>\n",
       "    </tr>\n",
       "    <tr>\n",
       "      <th>716320</th>\n",
       "      <td>1401509102</td>\n",
       "    </tr>\n",
       "    <tr>\n",
       "      <th>716337</th>\n",
       "      <td>1384566755830415368</td>\n",
       "    </tr>\n",
       "    <tr>\n",
       "      <th>716357</th>\n",
       "      <td>1489431368430153729</td>\n",
       "    </tr>\n",
       "  </tbody>\n",
       "</table>\n",
       "<p>11073 rows × 1 columns</p>\n",
       "</div>"
      ],
      "text/plain": [
       "           Outlet or Author\n",
       "4                2797948887\n",
       "8                2527490466\n",
       "9                1331133278\n",
       "10                207581304\n",
       "11      1477921047034929156\n",
       "...                     ...\n",
       "716233   851717988780621825\n",
       "716286  1391120434683432960\n",
       "716320           1401509102\n",
       "716337  1384566755830415368\n",
       "716357  1489431368430153729\n",
       "\n",
       "[11073 rows x 1 columns]"
      ]
     },
     "execution_count": 27,
     "metadata": {},
     "output_type": "execute_result"
    }
   ],
   "source": [
    "データ_bots = データ_tw_men_freq.merge(データ_botscore, how='inner', left_on='Outlet or Author', right_on='user_id')\n",
    "データ_bots = データ_bots[データ_bots.botscore>0.6].copy()\n",
    "データ_bots = データ_bots[['Outlet or Author']].copy()\n",
    "データ_bots"
   ]
  },
  {
   "cell_type": "markdown",
   "id": "4b862e9d-8616-4e8d-8ebd-5590458440ee",
   "metadata": {},
   "source": [
    "<div class=\"alert-warning\">\n",
    "    <strong>Warning:</strong> This line of code is commented to avoid generating new versions of the file when reviewing the code.\n",
    "</div>"
   ]
  },
  {
   "cell_type": "code",
   "execution_count": 111,
   "id": "dcb21b5e-79f6-4ae4-8636-a090f1a06b97",
   "metadata": {},
   "outputs": [],
   "source": [
    "#データ_bots.to_csv('results/bots_list.tsv', index=False, sep='\\t')"
   ]
  },
  {
   "cell_type": "markdown",
   "id": "88d4b558-4316-4d8f-ab48-7affaae7c0b7",
   "metadata": {},
   "source": [
    "# References"
   ]
  },
  {
   "cell_type": "markdown",
   "id": "0123bfac-9287-47b3-9702-868d5fa98c5a",
   "metadata": {},
   "source": [
    "Arroyo-Machado, W., & Torres-Salinas, D. (2021). *Web of Science categories (WC, SC, main categories) and ESI disciplines mapping*. https://doi.org/10.6084/m9.figshare.14695176.v2\n"
   ]
  }
 ],
 "metadata": {
  "kernelspec": {
   "display_name": "Python 3 (ipykernel)",
   "language": "python",
   "name": "python3"
  },
  "language_info": {
   "codemirror_mode": {
    "name": "ipython",
    "version": 3
   },
   "file_extension": ".py",
   "mimetype": "text/x-python",
   "name": "python",
   "nbconvert_exporter": "python",
   "pygments_lexer": "ipython3",
   "version": "3.11.5"
  }
 },
 "nbformat": 4,
 "nbformat_minor": 5
}
