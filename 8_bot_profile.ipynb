{
 "cells": [
  {
   "cell_type": "markdown",
   "id": "c005a1cd-9021-43ce-9753-301b706c6c19",
   "metadata": {},
   "source": [
    "# Bots in Science 🧪"
   ]
  },
  {
   "cell_type": "markdown",
   "id": "1772412e-d6bf-4e07-b3ed-b75f31518822",
   "metadata": {},
   "source": [
    "In this notebook, we analyze the bot profile."
   ]
  },
  {
   "cell_type": "markdown",
   "id": "dffad55f-232a-423d-abf5-9710a8759238",
   "metadata": {},
   "source": [
    "## Libraries"
   ]
  },
  {
   "cell_type": "code",
   "execution_count": 1,
   "id": "f6582b86-6a83-4076-b452-26ccb90d5a7e",
   "metadata": {},
   "outputs": [],
   "source": [
    "import pandas as pd"
   ]
  },
  {
   "cell_type": "markdown",
   "id": "42cd2b64-a3e6-4575-8b62-47b9ddde3e58",
   "metadata": {},
   "source": [
    "# 1. Bots metadata"
   ]
  },
  {
   "cell_type": "code",
   "execution_count": 4,
   "id": "84191a11-79be-437a-8fac-6312f586401a",
   "metadata": {},
   "outputs": [
    {
     "data": {
      "text/plain": [
       "(11073, 1)"
      ]
     },
     "execution_count": 4,
     "metadata": {},
     "output_type": "execute_result"
    }
   ],
   "source": [
    "データ_bots = pd.read_csv('results/bots_list.tsv', sep='\\t',\n",
    "                       dtype={'Outlet or Author':str},\n",
    "                       encoding='UTF-8')\n",
    "データ_bots.shape"
   ]
  },
  {
   "cell_type": "code",
   "execution_count": 5,
   "id": "e9931853-4234-41f1-af7a-e39ae9bfece8",
   "metadata": {},
   "outputs": [
    {
     "data": {
      "text/plain": [
       "(4875054, 20)"
      ]
     },
     "execution_count": 5,
     "metadata": {},
     "output_type": "execute_result"
    }
   ],
   "source": [
    "データ_tweeters = pd.read_csv('data/tweeters_metadata.tsv', sep='\\t', encoding='UTF-8', dtype={'id_str':str})\n",
    "データ_tweeters = データ_tweeters.groupby('id_str').first().reset_index()\n",
    "データ_tweeters.shape"
   ]
  },
  {
   "cell_type": "code",
   "execution_count": 32,
   "id": "786ca10d-087c-49bd-a301-69db53d49773",
   "metadata": {},
   "outputs": [
    {
     "data": {
      "text/plain": [
       "(498672, 4)"
      ]
     },
     "execution_count": 32,
     "metadata": {},
     "output_type": "execute_result"
    }
   ],
   "source": [
    "データ_scholars =  pd.read_csv('data/authors_tweeters_2022_08_21.csv', sep=',', encoding='UTF-8', dtype={'tweeter_id':str})\n",
    "データ_scholars.shape"
   ]
  },
  {
   "cell_type": "code",
   "execution_count": null,
   "id": "5fdc443e-cded-4f88-92c7-7459aa273b9e",
   "metadata": {},
   "outputs": [
    {
     "data": {
      "text/plain": [
       "0         67446324\n",
       "1         67446324\n",
       "2         67453462\n",
       "3         67462212\n",
       "4         67490783\n",
       "            ...   \n",
       "498667    66543117\n",
       "498668    66721406\n",
       "498669    66765711\n",
       "498670    67269116\n",
       "498671    67277410\n",
       "Name: tweeter_id, Length: 498672, dtype: object"
      ]
     },
     "execution_count": 34,
     "metadata": {},
     "output_type": "execute_result"
    }
   ],
   "source": []
  },
  {
   "cell_type": "markdown",
   "id": "0fd7cd33-b02d-4ed0-858a-fcf65afaacab",
   "metadata": {},
   "source": [
    "# 2. Bots profile"
   ]
  },
  {
   "cell_type": "code",
   "execution_count": 35,
   "id": "710de439-0e76-4c82-b273-84908808e0aa",
   "metadata": {},
   "outputs": [
    {
     "data": {
      "text/plain": [
       "other      4495223\n",
       "scholar     368758\n",
       "bot          11073\n",
       "Name: is_bot, dtype: int64"
      ]
     },
     "execution_count": 35,
     "metadata": {},
     "output_type": "execute_result"
    }
   ],
   "source": [
    "データ_tweeters['is_bot'] = 'other'\n",
    "データ_tweeters.loc[データ_tweeters['id_str'].isin(データ_scholars['tweeter_id'].tolist()), 'is_bot'] = 'scholar'\n",
    "データ_tweeters.loc[データ_tweeters['id_str'].isin(データ_bots['Outlet or Author'].tolist()), 'is_bot'] = 'bot'\n",
    "データ_tweeters['is_bot'].value_counts()"
   ]
  },
  {
   "cell_type": "code",
   "execution_count": 36,
   "id": "3b7f7b5d-8322-4963-8128-2eed2021ddc7",
   "metadata": {},
   "outputs": [
    {
     "data": {
      "text/plain": [
       "statuses_count    AxesSubplot(0.125,0.11;0.775x0.77)\n",
       "dtype: object"
      ]
     },
     "execution_count": 36,
     "metadata": {},
     "output_type": "execute_result"
    },
    {
     "data": {
      "image/png": "[encoded data removed]",
      "text/plain": [
       "<Figure size 640x480 with 1 Axes>"
      ]
     },
     "metadata": {},
     "output_type": "display_data"
    }
   ],
   "source": [
    "データ_tweeters[['statuses_count', 'is_bot']].plot.box(by='is_bot')"
   ]
  },
  {
   "cell_type": "code",
   "execution_count": 38,
   "id": "614d531d-24d6-43f0-83ca-73d948f4eb71",
   "metadata": {},
   "outputs": [
    {
     "data": {
      "text/html": [
       "<div>\n",
       "<style scoped>\n",
       "    .dataframe tbody tr th:only-of-type {\n",
       "        vertical-align: middle;\n",
       "    }\n",
       "\n",
       "    .dataframe tbody tr th {\n",
       "        vertical-align: top;\n",
       "    }\n",
       "\n",
       "    .dataframe thead th {\n",
       "        text-align: right;\n",
       "    }\n",
       "</style>\n",
       "<table border=\"1\" class=\"dataframe\">\n",
       "  <thead>\n",
       "    <tr style=\"text-align: right;\">\n",
       "      <th></th>\n",
       "      <th>is_bot</th>\n",
       "      <th>followers_count</th>\n",
       "      <th>friends_count</th>\n",
       "      <th>listed_count</th>\n",
       "      <th>favourites_count</th>\n",
       "      <th>statuses_count</th>\n",
       "    </tr>\n",
       "  </thead>\n",
       "  <tbody>\n",
       "    <tr>\n",
       "      <th>0</th>\n",
       "      <td>bot</td>\n",
       "      <td>154.0</td>\n",
       "      <td>118.0</td>\n",
       "      <td>2.0</td>\n",
       "      <td>4.0</td>\n",
       "      <td>1248.0</td>\n",
       "    </tr>\n",
       "    <tr>\n",
       "      <th>1</th>\n",
       "      <td>other</td>\n",
       "      <td>238.0</td>\n",
       "      <td>437.0</td>\n",
       "      <td>2.0</td>\n",
       "      <td>5065.0</td>\n",
       "      <td>4657.0</td>\n",
       "    </tr>\n",
       "    <tr>\n",
       "      <th>2</th>\n",
       "      <td>scholar</td>\n",
       "      <td>317.0</td>\n",
       "      <td>370.0</td>\n",
       "      <td>2.0</td>\n",
       "      <td>1054.0</td>\n",
       "      <td>427.0</td>\n",
       "    </tr>\n",
       "  </tbody>\n",
       "</table>\n",
       "</div>"
      ],
      "text/plain": [
       "    is_bot  followers_count  friends_count  listed_count  favourites_count  \\\n",
       "0      bot            154.0          118.0           2.0               4.0   \n",
       "1    other            238.0          437.0           2.0            5065.0   \n",
       "2  scholar            317.0          370.0           2.0            1054.0   \n",
       "\n",
       "   statuses_count  \n",
       "0          1248.0  \n",
       "1          4657.0  \n",
       "2           427.0  "
      ]
     },
     "execution_count": 38,
     "metadata": {},
     "output_type": "execute_result"
    }
   ],
   "source": [
    "データ_tweeters_stats = データ_tweeters[['followers_count', 'friends_count', 'listed_count', 'favourites_count', 'statuses_count', 'is_bot']].groupby('is_bot').median().reset_index()\n",
    "データ_tweeters_stats"
   ]
  },
  {
   "cell_type": "code",
   "execution_count": 24,
   "id": "6b03585f-48e5-43ae-a0c9-b45dc97d37f7",
   "metadata": {},
   "outputs": [],
   "source": [
    "データ_tweeters['followers_count_p'] = データ_tweeters['followers_count'].rank(pct=True)\n",
    "データ_tweeters['friends_count_p'] = データ_tweeters['friends_count'].rank(pct=True)\n",
    "データ_tweeters['favourites_count_p'] = データ_tweeters['favourites_count'].rank(pct=True)\n",
    "データ_tweeters['statuses_count_p'] = データ_tweeters['statuses_count'].rank(pct=True)"
   ]
  },
  {
   "cell_type": "code",
   "execution_count": 26,
   "id": "87b606c1-3e38-4493-b531-37ca076c66f3",
   "metadata": {},
   "outputs": [
    {
     "data": {
      "text/html": [
       "<div>\n",
       "<style scoped>\n",
       "    .dataframe tbody tr th:only-of-type {\n",
       "        vertical-align: middle;\n",
       "    }\n",
       "\n",
       "    .dataframe tbody tr th {\n",
       "        vertical-align: top;\n",
       "    }\n",
       "\n",
       "    .dataframe thead th {\n",
       "        text-align: right;\n",
       "    }\n",
       "</style>\n",
       "<table border=\"1\" class=\"dataframe\">\n",
       "  <thead>\n",
       "    <tr style=\"text-align: right;\">\n",
       "      <th></th>\n",
       "      <th>is_bot</th>\n",
       "      <th>followers_count_p</th>\n",
       "      <th>friends_count_p</th>\n",
       "      <th>favourites_count_p</th>\n",
       "      <th>statuses_count_p</th>\n",
       "    </tr>\n",
       "  </thead>\n",
       "  <tbody>\n",
       "    <tr>\n",
       "      <th>0</th>\n",
       "      <td>0</td>\n",
       "      <td>0.500147</td>\n",
       "      <td>0.500301</td>\n",
       "      <td>0.500942</td>\n",
       "      <td>0.500167</td>\n",
       "    </tr>\n",
       "    <tr>\n",
       "      <th>1</th>\n",
       "      <td>1</td>\n",
       "      <td>0.435339</td>\n",
       "      <td>0.367688</td>\n",
       "      <td>0.086403</td>\n",
       "      <td>0.426642</td>\n",
       "    </tr>\n",
       "  </tbody>\n",
       "</table>\n",
       "</div>"
      ],
      "text/plain": [
       "   is_bot  followers_count_p  friends_count_p  favourites_count_p  \\\n",
       "0       0           0.500147         0.500301            0.500942   \n",
       "1       1           0.435339         0.367688            0.086403   \n",
       "\n",
       "   statuses_count_p  \n",
       "0          0.500167  \n",
       "1          0.426642  "
      ]
     },
     "execution_count": 26,
     "metadata": {},
     "output_type": "execute_result"
    }
   ],
   "source": [
    "データ_tweeters_stats = データ_tweeters[['followers_count_p', 'friends_count_p', 'favourites_count_p', 'statuses_count_p', 'is_bot']].groupby('is_bot').mean().reset_index()\n",
    "データ_tweeters_stats"
   ]
  }
 ],
 "metadata": {
  "kernelspec": {
   "display_name": "Python 3 (ipykernel)",
   "language": "python",
   "name": "python3"
  },
  "language_info": {
   "codemirror_mode": {
    "name": "ipython",
    "version": 3
   },
   "file_extension": ".py",
   "mimetype": "text/x-python",
   "name": "python",
   "nbconvert_exporter": "python",
   "pygments_lexer": "ipython3",
   "version": "3.11.5"
  }
 },
 "nbformat": 4,
 "nbformat_minor": 5
}
