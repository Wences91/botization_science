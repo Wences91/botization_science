{
 "cells": [
  {
   "cell_type": "markdown",
   "id": "b8a0624b-c1b7-453e-aa66-31ec15ad3ae3",
   "metadata": {
    "tags": []
   },
   "source": [
    "# Bots in Science 🧪"
   ]
  },
  {
   "cell_type": "markdown",
   "id": "87bea1d7-38bc-4575-a39b-3115af1edeb6",
   "metadata": {
    "tags": []
   },
   "source": [
    "## Libraries"
   ]
  },
  {
   "cell_type": "code",
   "execution_count": 1,
   "id": "2155e60e-7594-4664-bf60-8461fedb1848",
   "metadata": {},
   "outputs": [],
   "source": [
    "import pandas as pd"
   ]
  },
  {
   "cell_type": "code",
   "execution_count": 2,
   "id": "b2b8a59b-358b-4aad-a095-f781142b3232",
   "metadata": {},
   "outputs": [],
   "source": [
    "## 1. Open Access"
   ]
  },
  {
   "cell_type": "code",
   "execution_count": 3,
   "id": "53f2cae9-6084-46c9-aa02-af4396bf33f7",
   "metadata": {},
   "outputs": [
    {
     "data": {
      "text/plain": [
       "(11980314, 3)"
      ]
     },
     "execution_count": 3,
     "metadata": {},
     "output_type": "execute_result"
    }
   ],
   "source": [
    "データ_oa = pd.read_csv('data/oa_papers.tsv', sep='\\t', encoding='UTF-8')\n",
    "データ_oa.doi = データ_oa.doi.str.lower()\n",
    "データ_oa.open_access_type.fillna('Closed', inplace=True)\n",
    "データ_oa.shape"
   ]
  },
  {
   "cell_type": "code",
   "execution_count": 4,
   "id": "1cec819a-fc78-421b-85bf-7d8dfa84b377",
   "metadata": {},
   "outputs": [
    {
     "data": {
      "text/plain": [
       "Closed             4941733\n",
       "Green published    2105734\n",
       "Gold               2095989\n",
       "Green submitted    1188094\n",
       "Hybrid              577567\n",
       "Bronze              550743\n",
       "Green accepted      520454\n",
       "Name: open_access_type, dtype: int64"
      ]
     },
     "execution_count": 4,
     "metadata": {},
     "output_type": "execute_result"
    }
   ],
   "source": [
    "データ_oa.open_access_type.value_counts()"
   ]
  },
  {
   "cell_type": "code",
   "execution_count": 5,
   "id": "efb764d6-a15d-4bc5-ba47-7a64500e9d40",
   "metadata": {},
   "outputs": [
    {
     "ename": "SyntaxError",
     "evalue": "invalid syntax (4025302706.py, line 1)",
     "output_type": "error",
     "traceback": [
      "\u001b[1;36m  File \u001b[1;32m\"C:\\Users\\Wence\\AppData\\Local\\Temp\\ipykernel_14796\\4025302706.py\"\u001b[1;36m, line \u001b[1;32m1\u001b[0m\n\u001b[1;33m    https://webofscience.help.clarivate.com/en-us/Content/open-access.html\u001b[0m\n\u001b[1;37m          ^\u001b[0m\n\u001b[1;31mSyntaxError\u001b[0m\u001b[1;31m:\u001b[0m invalid syntax\n"
     ]
    }
   ],
   "source": [
    "# https://webofscience.help.clarivate.com/en-us/Content/open-access.html\n",
    "# https://peerj.com/articles/4375/?ref=blog.oa.works"
   ]
  },
  {
   "cell_type": "code",
   "execution_count": 6,
   "id": "099ccdbb-85a6-45b0-b7c6-d43b6a8ed7f5",
   "metadata": {},
   "outputs": [
    {
     "data": {
      "text/plain": [
       "Closed    4673248\n",
       "Green     3152252\n",
       "Gold      2088183\n",
       "Hybrid     576446\n",
       "Bronze     548397\n",
       "Name: open_access_type, dtype: int64"
      ]
     },
     "execution_count": 6,
     "metadata": {},
     "output_type": "execute_result"
    }
   ],
   "source": [
    "データ_oa.loc[データ_oa.open_access_type=='Green published', 'open_access_type'] = 'Green'\n",
    "データ_oa.loc[データ_oa.open_access_type=='Green submitted', 'open_access_type'] = 'Green'\n",
    "データ_oa.loc[データ_oa.open_access_type=='Green accepted', 'open_access_type'] = 'Green'\n",
    "データ_oa = データ_oa.drop_duplicates()\n",
    "データ_oa.open_access_type.value_counts()"
   ]
  },
  {
   "cell_type": "code",
   "execution_count": null,
   "id": "af5fef63-b6ea-4ebb-a34b-5230e52557ec",
   "metadata": {},
   "outputs": [],
   "source": []
  },
  {
   "cell_type": "code",
   "execution_count": 20,
   "id": "9cee03fc-e70d-4083-9de2-65606986fb3b",
   "metadata": {},
   "outputs": [],
   "source": [
    "データ_oa_oa = データ_oa[データ_oa.open_access_type.isin(['Gold', 'Green'])].copy()\n",
    "データ_oa_other = データ_oa[~データ_oa.open_access_type.isin(['Gold', 'Green'])].copy()"
   ]
  },
  {
   "cell_type": "code",
   "execution_count": 21,
   "id": "5a7b146d-7a8a-4082-a663-270bfe02173c",
   "metadata": {},
   "outputs": [
    {
     "data": {
      "text/plain": [
       "(5240435, 3)"
      ]
     },
     "execution_count": 21,
     "metadata": {},
     "output_type": "execute_result"
    }
   ],
   "source": [
    "データ_oa_oa.shape"
   ]
  },
  {
   "cell_type": "code",
   "execution_count": 22,
   "id": "c00bca96-769c-44e6-a9c6-09bd1032d838",
   "metadata": {},
   "outputs": [],
   "source": [
    "データ_oa_oa = データ_oa_oa.sort_values('open_access_type')\n",
    "データ_oa_oa = データ_oa_oa.groupby(['doi', 'is_open_access']).first().reset_index()"
   ]
  },
  {
   "cell_type": "code",
   "execution_count": 23,
   "id": "acffd0c7-d051-4bb4-8d28-159af1abf209",
   "metadata": {},
   "outputs": [
    {
     "data": {
      "text/plain": [
       "(3695656, 3)"
      ]
     },
     "execution_count": 23,
     "metadata": {},
     "output_type": "execute_result"
    }
   ],
   "source": [
    "データ_oa_oa.shape"
   ]
  },
  {
   "cell_type": "code",
   "execution_count": 31,
   "id": "43c14dbc-edb4-44a7-a15e-3bef3afa1e62",
   "metadata": {},
   "outputs": [],
   "source": [
    "データ_oa = pd.concat([データ_oa_oa, データ_oa_other])"
   ]
  },
  {
   "cell_type": "markdown",
   "id": "9f94c432-bee2-4636-a08b-6eecfee8dc29",
   "metadata": {},
   "source": [
    "## 1. Overall"
   ]
  },
  {
   "cell_type": "code",
   "execution_count": 26,
   "id": "11b6dc3b-c64b-4e21-8349-a0238ef278bf",
   "metadata": {},
   "outputs": [
    {
     "data": {
      "text/plain": [
       "(51230936, 6)"
      ]
     },
     "execution_count": 26,
     "metadata": {},
     "output_type": "execute_result"
    }
   ],
   "source": [
    "データ_tw_men = pd.read_csv('data/final_mentions_full_bots.tsv', sep='\\t', encoding='UTF-8',\n",
    "                         dtype={'Outlet or Author':str, 'External Mention ID':str})\n",
    "データ_tw_men.DOI = データ_tw_men.DOI.str.lower()\n",
    "データ_tw_men.shape"
   ]
  },
  {
   "cell_type": "code",
   "execution_count": null,
   "id": "d32eff67-4ca2-47a4-b69e-675cd325e8ea",
   "metadata": {},
   "outputs": [],
   "source": []
  },
  {
   "cell_type": "code",
   "execution_count": 32,
   "id": "a875624e-1433-48e3-98b9-458d8fbf906b",
   "metadata": {},
   "outputs": [
    {
     "data": {
      "text/plain": [
       "(65499520, 9)"
      ]
     },
     "execution_count": 32,
     "metadata": {},
     "output_type": "execute_result"
    }
   ],
   "source": [
    "データ_tw_men_oa = データ_tw_men.merge(データ_oa, how='inner', left_on='DOI', right_on='doi')\n",
    "データ_tw_men_oa.shape"
   ]
  },
  {
   "cell_type": "code",
   "execution_count": 33,
   "id": "205a391e-3e5c-4608-ae1f-a848dcc13a3b",
   "metadata": {},
   "outputs": [
    {
     "data": {
      "text/plain": [
       "(5123438, 3)"
      ]
     },
     "execution_count": 33,
     "metadata": {},
     "output_type": "execute_result"
    }
   ],
   "source": [
    "データ_tw_men_oa = データ_tw_men_oa.loc[データ_tw_men_oa.Original==1, ['DOI', 'bot', 'open_access_type']].drop_duplicates()\n",
    "データ_tw_men_oa.shape"
   ]
  },
  {
   "cell_type": "code",
   "execution_count": 34,
   "id": "fd676eca-19af-4aa1-8c67-a7a246fb6df8",
   "metadata": {},
   "outputs": [],
   "source": [
    "データ_tw_men_count = データ_tw_men_oa[['DOI', 'bot']].drop_duplicates().groupby('bot').count()\n",
    "データ_tw_men_count = データ_tw_men_count.pivot_table(values = 'DOI', index='bot').reset_index()\n",
    "データ_tw_men_oa_count = データ_tw_men_oa.groupby(['bot', 'open_access_type']).count().reset_index()\n",
    "データ_tw_men_oa_count = データ_tw_men_oa_count.pivot_table(values = 'DOI', index='bot', columns = 'open_access_type').reset_index()\n",
    "データ_tw_men_oa_count = データ_tw_men_oa_count.merge(データ_tw_men_count, how='inner', on='bot')"
   ]
  },
  {
   "cell_type": "code",
   "execution_count": 35,
   "id": "e3af7ec9-44a1-4d5b-bf3f-be83fbec0ea3",
   "metadata": {},
   "outputs": [
    {
     "data": {
      "text/html": [
       "<div>\n",
       "<style scoped>\n",
       "    .dataframe tbody tr th:only-of-type {\n",
       "        vertical-align: middle;\n",
       "    }\n",
       "\n",
       "    .dataframe tbody tr th {\n",
       "        vertical-align: top;\n",
       "    }\n",
       "\n",
       "    .dataframe thead th {\n",
       "        text-align: right;\n",
       "    }\n",
       "</style>\n",
       "<table border=\"1\" class=\"dataframe\">\n",
       "  <thead>\n",
       "    <tr style=\"text-align: right;\">\n",
       "      <th></th>\n",
       "      <th>bot</th>\n",
       "      <th>Bronze</th>\n",
       "      <th>Closed</th>\n",
       "      <th>Gold</th>\n",
       "      <th>Green</th>\n",
       "      <th>Hybrid</th>\n",
       "      <th>DOI</th>\n",
       "    </tr>\n",
       "  </thead>\n",
       "  <tbody>\n",
       "    <tr>\n",
       "      <th>0</th>\n",
       "      <td>0</td>\n",
       "      <td>299150</td>\n",
       "      <td>1252642</td>\n",
       "      <td>916418</td>\n",
       "      <td>868389</td>\n",
       "      <td>332057</td>\n",
       "      <td>3255145</td>\n",
       "    </tr>\n",
       "    <tr>\n",
       "      <th>1</th>\n",
       "      <td>1</td>\n",
       "      <td>122647</td>\n",
       "      <td>395505</td>\n",
       "      <td>382039</td>\n",
       "      <td>421448</td>\n",
       "      <td>133143</td>\n",
       "      <td>1267258</td>\n",
       "    </tr>\n",
       "  </tbody>\n",
       "</table>\n",
       "</div>"
      ],
      "text/plain": [
       "   bot  Bronze   Closed    Gold   Green  Hybrid      DOI\n",
       "0    0  299150  1252642  916418  868389  332057  3255145\n",
       "1    1  122647   395505  382039  421448  133143  1267258"
      ]
     },
     "execution_count": 35,
     "metadata": {},
     "output_type": "execute_result"
    }
   ],
   "source": [
    "データ_tw_men_oa_count"
   ]
  },
  {
   "cell_type": "markdown",
   "id": "1d8689cf-9dce-4fe7-8e8c-94301e9f51b1",
   "metadata": {},
   "source": [
    "## 2. ESI field"
   ]
  },
  {
   "cell_type": "code",
   "execution_count": 7,
   "id": "d313e43d-a2f9-4f94-8cbe-152e1fdd3240",
   "metadata": {},
   "outputs": [
    {
     "data": {
      "text/plain": [
       "(66269090, 7)"
      ]
     },
     "execution_count": 7,
     "metadata": {},
     "output_type": "execute_result"
    }
   ],
   "source": [
    "データ_tw_men_esi = pd.read_csv('data/final_mentions_full_bots_esi.tsv', sep='\\t', encoding='UTF-8',\n",
    "                             dtype={'Outlet or Author':str, 'External Mention ID':str})\n",
    "データ_tw_men_esi.DOI = データ_tw_men_esi.DOI.str.lower()\n",
    "データ_tw_men_esi.shape"
   ]
  },
  {
   "cell_type": "code",
   "execution_count": 8,
   "id": "8d614d3f-5601-4885-ae3c-eb74237c20f0",
   "metadata": {},
   "outputs": [
    {
     "data": {
      "text/plain": [
       "(99681388, 10)"
      ]
     },
     "execution_count": 8,
     "metadata": {},
     "output_type": "execute_result"
    }
   ],
   "source": [
    "データ_tw_men_esi_oa = データ_tw_men_esi.merge(データ_oa, how='inner', left_on='DOI', right_on='doi')\n",
    "データ_tw_men_esi_oa.shape"
   ]
  },
  {
   "cell_type": "code",
   "execution_count": 9,
   "id": "861aa313-b952-484b-908c-d39aba33af44",
   "metadata": {},
   "outputs": [
    {
     "data": {
      "text/plain": [
       "(8657816, 4)"
      ]
     },
     "execution_count": 9,
     "metadata": {},
     "output_type": "execute_result"
    }
   ],
   "source": [
    "データ_tw_men_esi_oa = データ_tw_men_esi_oa.loc[データ_tw_men_esi_oa.Original==1, ['ESI', 'DOI', 'bot', 'open_access_type']].drop_duplicates()\n",
    "データ_tw_men_esi_oa.shape"
   ]
  },
  {
   "cell_type": "code",
   "execution_count": 16,
   "id": "fcc17949-2516-4d0d-9c1b-1d7a0b886ea4",
   "metadata": {},
   "outputs": [],
   "source": [
    "データ_tw_men_esi_count = データ_tw_men_esi_oa[['ESI', 'DOI', 'bot']].drop_duplicates().groupby(['ESI', 'bot']).count()\n",
    "データ_tw_men_esi_count = データ_tw_men_esi_count.pivot_table(values = 'DOI', index=['bot', 'ESI']).reset_index()\n",
    "データ_tw_men_esi_oa_count = データ_tw_men_esi_oa.groupby(['ESI', 'bot', 'open_access_type']).count().reset_index()\n",
    "データ_tw_men_esi_oa_count = データ_tw_men_esi_oa_count.pivot_table(values = 'DOI', index=['bot', 'ESI'], columns = 'open_access_type').reset_index()\n",
    "データ_tw_men_esi_oa_count = データ_tw_men_esi_oa_count.merge(データ_tw_men_esi_count, how='inner', on=['bot', 'ESI'])"
   ]
  },
  {
   "cell_type": "code",
   "execution_count": 17,
   "id": "5f0c5770-366b-43aa-b5a9-660f6dd5d085",
   "metadata": {},
   "outputs": [
    {
     "data": {
      "text/html": [
       "<div>\n",
       "<style scoped>\n",
       "    .dataframe tbody tr th:only-of-type {\n",
       "        vertical-align: middle;\n",
       "    }\n",
       "\n",
       "    .dataframe tbody tr th {\n",
       "        vertical-align: top;\n",
       "    }\n",
       "\n",
       "    .dataframe thead th {\n",
       "        text-align: right;\n",
       "    }\n",
       "</style>\n",
       "<table border=\"1\" class=\"dataframe\">\n",
       "  <thead>\n",
       "    <tr style=\"text-align: right;\">\n",
       "      <th></th>\n",
       "      <th>bot</th>\n",
       "      <th>ESI</th>\n",
       "      <th>Bronze</th>\n",
       "      <th>Closed</th>\n",
       "      <th>Gold</th>\n",
       "      <th>Green</th>\n",
       "      <th>Hybrid</th>\n",
       "      <th>DOI</th>\n",
       "    </tr>\n",
       "  </thead>\n",
       "  <tbody>\n",
       "    <tr>\n",
       "      <th>0</th>\n",
       "      <td>0</td>\n",
       "      <td>Agricultural Sciences</td>\n",
       "      <td>9066</td>\n",
       "      <td>44335</td>\n",
       "      <td>29519</td>\n",
       "      <td>43280</td>\n",
       "      <td>10648</td>\n",
       "      <td>103814</td>\n",
       "    </tr>\n",
       "    <tr>\n",
       "      <th>1</th>\n",
       "      <td>0</td>\n",
       "      <td>Arts &amp; Humanities</td>\n",
       "      <td>3454</td>\n",
       "      <td>35735</td>\n",
       "      <td>3904</td>\n",
       "      <td>15919</td>\n",
       "      <td>7491</td>\n",
       "      <td>59208</td>\n",
       "    </tr>\n",
       "    <tr>\n",
       "      <th>2</th>\n",
       "      <td>0</td>\n",
       "      <td>Biology &amp; Biochemistry</td>\n",
       "      <td>31732</td>\n",
       "      <td>72040</td>\n",
       "      <td>69839</td>\n",
       "      <td>144457</td>\n",
       "      <td>33925</td>\n",
       "      <td>234690</td>\n",
       "    </tr>\n",
       "    <tr>\n",
       "      <th>3</th>\n",
       "      <td>0</td>\n",
       "      <td>Chemistry</td>\n",
       "      <td>11709</td>\n",
       "      <td>197979</td>\n",
       "      <td>60494</td>\n",
       "      <td>128192</td>\n",
       "      <td>31190</td>\n",
       "      <td>351362</td>\n",
       "    </tr>\n",
       "    <tr>\n",
       "      <th>4</th>\n",
       "      <td>0</td>\n",
       "      <td>Clinical Medicine</td>\n",
       "      <td>122601</td>\n",
       "      <td>367414</td>\n",
       "      <td>241987</td>\n",
       "      <td>470853</td>\n",
       "      <td>88400</td>\n",
       "      <td>931925</td>\n",
       "    </tr>\n",
       "    <tr>\n",
       "      <th>5</th>\n",
       "      <td>0</td>\n",
       "      <td>Computer Science</td>\n",
       "      <td>5293</td>\n",
       "      <td>31607</td>\n",
       "      <td>17832</td>\n",
       "      <td>40717</td>\n",
       "      <td>9121</td>\n",
       "      <td>81336</td>\n",
       "    </tr>\n",
       "    <tr>\n",
       "      <th>6</th>\n",
       "      <td>0</td>\n",
       "      <td>Economics &amp; Business</td>\n",
       "      <td>4665</td>\n",
       "      <td>43916</td>\n",
       "      <td>1484</td>\n",
       "      <td>32289</td>\n",
       "      <td>10825</td>\n",
       "      <td>82270</td>\n",
       "    </tr>\n",
       "    <tr>\n",
       "      <th>7</th>\n",
       "      <td>0</td>\n",
       "      <td>Engineering</td>\n",
       "      <td>10330</td>\n",
       "      <td>133325</td>\n",
       "      <td>52577</td>\n",
       "      <td>99399</td>\n",
       "      <td>24638</td>\n",
       "      <td>264596</td>\n",
       "    </tr>\n",
       "    <tr>\n",
       "      <th>8</th>\n",
       "      <td>0</td>\n",
       "      <td>Environment/Ecology</td>\n",
       "      <td>16138</td>\n",
       "      <td>99458</td>\n",
       "      <td>69300</td>\n",
       "      <td>98713</td>\n",
       "      <td>26937</td>\n",
       "      <td>238800</td>\n",
       "    </tr>\n",
       "    <tr>\n",
       "      <th>9</th>\n",
       "      <td>0</td>\n",
       "      <td>Geosciences</td>\n",
       "      <td>12355</td>\n",
       "      <td>56825</td>\n",
       "      <td>41106</td>\n",
       "      <td>59023</td>\n",
       "      <td>17935</td>\n",
       "      <td>144918</td>\n",
       "    </tr>\n",
       "    <tr>\n",
       "      <th>10</th>\n",
       "      <td>0</td>\n",
       "      <td>Immunology</td>\n",
       "      <td>13900</td>\n",
       "      <td>26193</td>\n",
       "      <td>39715</td>\n",
       "      <td>64468</td>\n",
       "      <td>11575</td>\n",
       "      <td>100876</td>\n",
       "    </tr>\n",
       "    <tr>\n",
       "      <th>11</th>\n",
       "      <td>0</td>\n",
       "      <td>Materials Science</td>\n",
       "      <td>5526</td>\n",
       "      <td>83635</td>\n",
       "      <td>32126</td>\n",
       "      <td>62676</td>\n",
       "      <td>15892</td>\n",
       "      <td>167196</td>\n",
       "    </tr>\n",
       "    <tr>\n",
       "      <th>12</th>\n",
       "      <td>0</td>\n",
       "      <td>Mathematics</td>\n",
       "      <td>2929</td>\n",
       "      <td>8980</td>\n",
       "      <td>3217</td>\n",
       "      <td>18410</td>\n",
       "      <td>5311</td>\n",
       "      <td>30715</td>\n",
       "    </tr>\n",
       "    <tr>\n",
       "      <th>13</th>\n",
       "      <td>0</td>\n",
       "      <td>Microbiology</td>\n",
       "      <td>18584</td>\n",
       "      <td>31239</td>\n",
       "      <td>66970</td>\n",
       "      <td>101227</td>\n",
       "      <td>15237</td>\n",
       "      <td>143697</td>\n",
       "    </tr>\n",
       "    <tr>\n",
       "      <th>14</th>\n",
       "      <td>0</td>\n",
       "      <td>Molecular Biology &amp; Genetics</td>\n",
       "      <td>21044</td>\n",
       "      <td>28724</td>\n",
       "      <td>56285</td>\n",
       "      <td>98324</td>\n",
       "      <td>19899</td>\n",
       "      <td>139492</td>\n",
       "    </tr>\n",
       "    <tr>\n",
       "      <th>15</th>\n",
       "      <td>0</td>\n",
       "      <td>Multidisciplinary</td>\n",
       "      <td>12132</td>\n",
       "      <td>6144</td>\n",
       "      <td>169322</td>\n",
       "      <td>193414</td>\n",
       "      <td>7283</td>\n",
       "      <td>202220</td>\n",
       "    </tr>\n",
       "    <tr>\n",
       "      <th>16</th>\n",
       "      <td>0</td>\n",
       "      <td>Neuroscience &amp; Behavior</td>\n",
       "      <td>23285</td>\n",
       "      <td>69379</td>\n",
       "      <td>42306</td>\n",
       "      <td>99863</td>\n",
       "      <td>20792</td>\n",
       "      <td>183801</td>\n",
       "    </tr>\n",
       "    <tr>\n",
       "      <th>17</th>\n",
       "      <td>0</td>\n",
       "      <td>Pharmacology &amp; Toxicology</td>\n",
       "      <td>9542</td>\n",
       "      <td>51787</td>\n",
       "      <td>25744</td>\n",
       "      <td>50818</td>\n",
       "      <td>11466</td>\n",
       "      <td>111546</td>\n",
       "    </tr>\n",
       "    <tr>\n",
       "      <th>18</th>\n",
       "      <td>0</td>\n",
       "      <td>Physics</td>\n",
       "      <td>5739</td>\n",
       "      <td>75831</td>\n",
       "      <td>53814</td>\n",
       "      <td>136845</td>\n",
       "      <td>29191</td>\n",
       "      <td>234456</td>\n",
       "    </tr>\n",
       "    <tr>\n",
       "      <th>19</th>\n",
       "      <td>0</td>\n",
       "      <td>Plant &amp; Animal Science</td>\n",
       "      <td>20431</td>\n",
       "      <td>89781</td>\n",
       "      <td>51943</td>\n",
       "      <td>86113</td>\n",
       "      <td>21801</td>\n",
       "      <td>201881</td>\n",
       "    </tr>\n",
       "    <tr>\n",
       "      <th>20</th>\n",
       "      <td>0</td>\n",
       "      <td>Psychiatry/Psychology</td>\n",
       "      <td>15254</td>\n",
       "      <td>94393</td>\n",
       "      <td>32200</td>\n",
       "      <td>95109</td>\n",
       "      <td>20650</td>\n",
       "      <td>201932</td>\n",
       "    </tr>\n",
       "    <tr>\n",
       "      <th>21</th>\n",
       "      <td>0</td>\n",
       "      <td>Social Sciences, General</td>\n",
       "      <td>14804</td>\n",
       "      <td>152220</td>\n",
       "      <td>12665</td>\n",
       "      <td>80080</td>\n",
       "      <td>33236</td>\n",
       "      <td>258365</td>\n",
       "    </tr>\n",
       "    <tr>\n",
       "      <th>22</th>\n",
       "      <td>0</td>\n",
       "      <td>Space Sciences</td>\n",
       "      <td>9413</td>\n",
       "      <td>3552</td>\n",
       "      <td>5020</td>\n",
       "      <td>55269</td>\n",
       "      <td>10578</td>\n",
       "      <td>60328</td>\n",
       "    </tr>\n",
       "    <tr>\n",
       "      <th>23</th>\n",
       "      <td>1</td>\n",
       "      <td>Agricultural Sciences</td>\n",
       "      <td>2955</td>\n",
       "      <td>17029</td>\n",
       "      <td>8969</td>\n",
       "      <td>15558</td>\n",
       "      <td>3673</td>\n",
       "      <td>36113</td>\n",
       "    </tr>\n",
       "    <tr>\n",
       "      <th>24</th>\n",
       "      <td>1</td>\n",
       "      <td>Arts &amp; Humanities</td>\n",
       "      <td>308</td>\n",
       "      <td>2433</td>\n",
       "      <td>273</td>\n",
       "      <td>1930</td>\n",
       "      <td>823</td>\n",
       "      <td>4875</td>\n",
       "    </tr>\n",
       "    <tr>\n",
       "      <th>25</th>\n",
       "      <td>1</td>\n",
       "      <td>Biology &amp; Biochemistry</td>\n",
       "      <td>16890</td>\n",
       "      <td>42610</td>\n",
       "      <td>35736</td>\n",
       "      <td>75068</td>\n",
       "      <td>17399</td>\n",
       "      <td>127300</td>\n",
       "    </tr>\n",
       "    <tr>\n",
       "      <th>26</th>\n",
       "      <td>1</td>\n",
       "      <td>Chemistry</td>\n",
       "      <td>2982</td>\n",
       "      <td>54947</td>\n",
       "      <td>17990</td>\n",
       "      <td>41289</td>\n",
       "      <td>7819</td>\n",
       "      <td>100659</td>\n",
       "    </tr>\n",
       "    <tr>\n",
       "      <th>27</th>\n",
       "      <td>1</td>\n",
       "      <td>Clinical Medicine</td>\n",
       "      <td>43116</td>\n",
       "      <td>122879</td>\n",
       "      <td>89632</td>\n",
       "      <td>172924</td>\n",
       "      <td>31851</td>\n",
       "      <td>327988</td>\n",
       "    </tr>\n",
       "    <tr>\n",
       "      <th>28</th>\n",
       "      <td>1</td>\n",
       "      <td>Computer Science</td>\n",
       "      <td>2332</td>\n",
       "      <td>6905</td>\n",
       "      <td>6261</td>\n",
       "      <td>20550</td>\n",
       "      <td>3460</td>\n",
       "      <td>28949</td>\n",
       "    </tr>\n",
       "    <tr>\n",
       "      <th>29</th>\n",
       "      <td>1</td>\n",
       "      <td>Economics &amp; Business</td>\n",
       "      <td>976</td>\n",
       "      <td>4438</td>\n",
       "      <td>347</td>\n",
       "      <td>5280</td>\n",
       "      <td>1699</td>\n",
       "      <td>10577</td>\n",
       "    </tr>\n",
       "    <tr>\n",
       "      <th>30</th>\n",
       "      <td>1</td>\n",
       "      <td>Engineering</td>\n",
       "      <td>3002</td>\n",
       "      <td>43330</td>\n",
       "      <td>8861</td>\n",
       "      <td>35732</td>\n",
       "      <td>6796</td>\n",
       "      <td>83564</td>\n",
       "    </tr>\n",
       "    <tr>\n",
       "      <th>31</th>\n",
       "      <td>1</td>\n",
       "      <td>Environment/Ecology</td>\n",
       "      <td>5010</td>\n",
       "      <td>23467</td>\n",
       "      <td>19738</td>\n",
       "      <td>32436</td>\n",
       "      <td>7517</td>\n",
       "      <td>62968</td>\n",
       "    </tr>\n",
       "    <tr>\n",
       "      <th>32</th>\n",
       "      <td>1</td>\n",
       "      <td>Geosciences</td>\n",
       "      <td>5133</td>\n",
       "      <td>11831</td>\n",
       "      <td>17337</td>\n",
       "      <td>25600</td>\n",
       "      <td>6246</td>\n",
       "      <td>46078</td>\n",
       "    </tr>\n",
       "    <tr>\n",
       "      <th>33</th>\n",
       "      <td>1</td>\n",
       "      <td>Immunology</td>\n",
       "      <td>7397</td>\n",
       "      <td>18341</td>\n",
       "      <td>19912</td>\n",
       "      <td>32733</td>\n",
       "      <td>5829</td>\n",
       "      <td>56572</td>\n",
       "    </tr>\n",
       "    <tr>\n",
       "      <th>34</th>\n",
       "      <td>1</td>\n",
       "      <td>Materials Science</td>\n",
       "      <td>1652</td>\n",
       "      <td>42579</td>\n",
       "      <td>5180</td>\n",
       "      <td>34150</td>\n",
       "      <td>7721</td>\n",
       "      <td>79948</td>\n",
       "    </tr>\n",
       "    <tr>\n",
       "      <th>35</th>\n",
       "      <td>1</td>\n",
       "      <td>Mathematics</td>\n",
       "      <td>3217</td>\n",
       "      <td>2249</td>\n",
       "      <td>1136</td>\n",
       "      <td>23091</td>\n",
       "      <td>3231</td>\n",
       "      <td>26142</td>\n",
       "    </tr>\n",
       "    <tr>\n",
       "      <th>36</th>\n",
       "      <td>1</td>\n",
       "      <td>Microbiology</td>\n",
       "      <td>12026</td>\n",
       "      <td>25244</td>\n",
       "      <td>41217</td>\n",
       "      <td>62627</td>\n",
       "      <td>9312</td>\n",
       "      <td>95534</td>\n",
       "    </tr>\n",
       "    <tr>\n",
       "      <th>37</th>\n",
       "      <td>1</td>\n",
       "      <td>Molecular Biology &amp; Genetics</td>\n",
       "      <td>13565</td>\n",
       "      <td>21223</td>\n",
       "      <td>34268</td>\n",
       "      <td>59496</td>\n",
       "      <td>11263</td>\n",
       "      <td>88974</td>\n",
       "    </tr>\n",
       "    <tr>\n",
       "      <th>38</th>\n",
       "      <td>1</td>\n",
       "      <td>Multidisciplinary</td>\n",
       "      <td>7272</td>\n",
       "      <td>3279</td>\n",
       "      <td>87309</td>\n",
       "      <td>104232</td>\n",
       "      <td>4753</td>\n",
       "      <td>108281</td>\n",
       "    </tr>\n",
       "    <tr>\n",
       "      <th>39</th>\n",
       "      <td>1</td>\n",
       "      <td>Neuroscience &amp; Behavior</td>\n",
       "      <td>10013</td>\n",
       "      <td>32616</td>\n",
       "      <td>13825</td>\n",
       "      <td>41874</td>\n",
       "      <td>9657</td>\n",
       "      <td>80054</td>\n",
       "    </tr>\n",
       "    <tr>\n",
       "      <th>40</th>\n",
       "      <td>1</td>\n",
       "      <td>Pharmacology &amp; Toxicology</td>\n",
       "      <td>4229</td>\n",
       "      <td>25015</td>\n",
       "      <td>10057</td>\n",
       "      <td>19908</td>\n",
       "      <td>4432</td>\n",
       "      <td>49009</td>\n",
       "    </tr>\n",
       "    <tr>\n",
       "      <th>41</th>\n",
       "      <td>1</td>\n",
       "      <td>Physics</td>\n",
       "      <td>2312</td>\n",
       "      <td>24513</td>\n",
       "      <td>28450</td>\n",
       "      <td>131397</td>\n",
       "      <td>24930</td>\n",
       "      <td>159157</td>\n",
       "    </tr>\n",
       "    <tr>\n",
       "      <th>42</th>\n",
       "      <td>1</td>\n",
       "      <td>Plant &amp; Animal Science</td>\n",
       "      <td>9234</td>\n",
       "      <td>39035</td>\n",
       "      <td>24529</td>\n",
       "      <td>42898</td>\n",
       "      <td>9693</td>\n",
       "      <td>90467</td>\n",
       "    </tr>\n",
       "    <tr>\n",
       "      <th>43</th>\n",
       "      <td>1</td>\n",
       "      <td>Psychiatry/Psychology</td>\n",
       "      <td>4093</td>\n",
       "      <td>22525</td>\n",
       "      <td>7601</td>\n",
       "      <td>25404</td>\n",
       "      <td>6287</td>\n",
       "      <td>50940</td>\n",
       "    </tr>\n",
       "    <tr>\n",
       "      <th>44</th>\n",
       "      <td>1</td>\n",
       "      <td>Social Sciences, General</td>\n",
       "      <td>1796</td>\n",
       "      <td>12219</td>\n",
       "      <td>1788</td>\n",
       "      <td>10790</td>\n",
       "      <td>3838</td>\n",
       "      <td>25331</td>\n",
       "    </tr>\n",
       "    <tr>\n",
       "      <th>45</th>\n",
       "      <td>1</td>\n",
       "      <td>Space Sciences</td>\n",
       "      <td>5768</td>\n",
       "      <td>1261</td>\n",
       "      <td>3966</td>\n",
       "      <td>49940</td>\n",
       "      <td>11786</td>\n",
       "      <td>51650</td>\n",
       "    </tr>\n",
       "  </tbody>\n",
       "</table>\n",
       "</div>"
      ],
      "text/plain": [
       "    bot                           ESI  Bronze  Closed    Gold   Green  Hybrid  \\\n",
       "0     0         Agricultural Sciences    9066   44335   29519   43280   10648   \n",
       "1     0             Arts & Humanities    3454   35735    3904   15919    7491   \n",
       "2     0        Biology & Biochemistry   31732   72040   69839  144457   33925   \n",
       "3     0                     Chemistry   11709  197979   60494  128192   31190   \n",
       "4     0             Clinical Medicine  122601  367414  241987  470853   88400   \n",
       "5     0              Computer Science    5293   31607   17832   40717    9121   \n",
       "6     0          Economics & Business    4665   43916    1484   32289   10825   \n",
       "7     0                   Engineering   10330  133325   52577   99399   24638   \n",
       "8     0           Environment/Ecology   16138   99458   69300   98713   26937   \n",
       "9     0                   Geosciences   12355   56825   41106   59023   17935   \n",
       "10    0                    Immunology   13900   26193   39715   64468   11575   \n",
       "11    0             Materials Science    5526   83635   32126   62676   15892   \n",
       "12    0                   Mathematics    2929    8980    3217   18410    5311   \n",
       "13    0                  Microbiology   18584   31239   66970  101227   15237   \n",
       "14    0  Molecular Biology & Genetics   21044   28724   56285   98324   19899   \n",
       "15    0             Multidisciplinary   12132    6144  169322  193414    7283   \n",
       "16    0       Neuroscience & Behavior   23285   69379   42306   99863   20792   \n",
       "17    0     Pharmacology & Toxicology    9542   51787   25744   50818   11466   \n",
       "18    0                       Physics    5739   75831   53814  136845   29191   \n",
       "19    0        Plant & Animal Science   20431   89781   51943   86113   21801   \n",
       "20    0         Psychiatry/Psychology   15254   94393   32200   95109   20650   \n",
       "21    0      Social Sciences, General   14804  152220   12665   80080   33236   \n",
       "22    0                Space Sciences    9413    3552    5020   55269   10578   \n",
       "23    1         Agricultural Sciences    2955   17029    8969   15558    3673   \n",
       "24    1             Arts & Humanities     308    2433     273    1930     823   \n",
       "25    1        Biology & Biochemistry   16890   42610   35736   75068   17399   \n",
       "26    1                     Chemistry    2982   54947   17990   41289    7819   \n",
       "27    1             Clinical Medicine   43116  122879   89632  172924   31851   \n",
       "28    1              Computer Science    2332    6905    6261   20550    3460   \n",
       "29    1          Economics & Business     976    4438     347    5280    1699   \n",
       "30    1                   Engineering    3002   43330    8861   35732    6796   \n",
       "31    1           Environment/Ecology    5010   23467   19738   32436    7517   \n",
       "32    1                   Geosciences    5133   11831   17337   25600    6246   \n",
       "33    1                    Immunology    7397   18341   19912   32733    5829   \n",
       "34    1             Materials Science    1652   42579    5180   34150    7721   \n",
       "35    1                   Mathematics    3217    2249    1136   23091    3231   \n",
       "36    1                  Microbiology   12026   25244   41217   62627    9312   \n",
       "37    1  Molecular Biology & Genetics   13565   21223   34268   59496   11263   \n",
       "38    1             Multidisciplinary    7272    3279   87309  104232    4753   \n",
       "39    1       Neuroscience & Behavior   10013   32616   13825   41874    9657   \n",
       "40    1     Pharmacology & Toxicology    4229   25015   10057   19908    4432   \n",
       "41    1                       Physics    2312   24513   28450  131397   24930   \n",
       "42    1        Plant & Animal Science    9234   39035   24529   42898    9693   \n",
       "43    1         Psychiatry/Psychology    4093   22525    7601   25404    6287   \n",
       "44    1      Social Sciences, General    1796   12219    1788   10790    3838   \n",
       "45    1                Space Sciences    5768    1261    3966   49940   11786   \n",
       "\n",
       "       DOI  \n",
       "0   103814  \n",
       "1    59208  \n",
       "2   234690  \n",
       "3   351362  \n",
       "4   931925  \n",
       "5    81336  \n",
       "6    82270  \n",
       "7   264596  \n",
       "8   238800  \n",
       "9   144918  \n",
       "10  100876  \n",
       "11  167196  \n",
       "12   30715  \n",
       "13  143697  \n",
       "14  139492  \n",
       "15  202220  \n",
       "16  183801  \n",
       "17  111546  \n",
       "18  234456  \n",
       "19  201881  \n",
       "20  201932  \n",
       "21  258365  \n",
       "22   60328  \n",
       "23   36113  \n",
       "24    4875  \n",
       "25  127300  \n",
       "26  100659  \n",
       "27  327988  \n",
       "28   28949  \n",
       "29   10577  \n",
       "30   83564  \n",
       "31   62968  \n",
       "32   46078  \n",
       "33   56572  \n",
       "34   79948  \n",
       "35   26142  \n",
       "36   95534  \n",
       "37   88974  \n",
       "38  108281  \n",
       "39   80054  \n",
       "40   49009  \n",
       "41  159157  \n",
       "42   90467  \n",
       "43   50940  \n",
       "44   25331  \n",
       "45   51650  "
      ]
     },
     "execution_count": 17,
     "metadata": {},
     "output_type": "execute_result"
    }
   ],
   "source": [
    "データ_tw_men_esi_oa_count"
   ]
  }
 ],
 "metadata": {
  "kernelspec": {
   "display_name": "Python 3 (ipykernel)",
   "language": "python",
   "name": "python3"
  },
  "language_info": {
   "codemirror_mode": {
    "name": "ipython",
    "version": 3
   },
   "file_extension": ".py",
   "mimetype": "text/x-python",
   "name": "python",
   "nbconvert_exporter": "python",
   "pygments_lexer": "ipython3",
   "version": "3.11.5"
  }
 },
 "nbformat": 4,
 "nbformat_minor": 5
}
